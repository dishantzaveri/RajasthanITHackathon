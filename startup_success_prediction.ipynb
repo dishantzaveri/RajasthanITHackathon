{
 "cells": [
  {
   "cell_type": "code",
   "execution_count": null,
   "id": "wrapped-investigator",
   "metadata": {
    "execution": {
     "iopub.execute_input": "2021-04-22T06:39:31.508186Z",
     "iopub.status.busy": "2021-04-22T06:39:31.503991Z",
     "iopub.status.idle": "2021-04-22T06:39:35.397755Z",
     "shell.execute_reply": "2021-04-22T06:39:35.396667Z"
    },
    "papermill": {
     "duration": 4.022918,
     "end_time": "2021-04-22T06:39:35.397946",
     "exception": false,
     "start_time": "2021-04-22T06:39:31.375028",
     "status": "completed"
    },
    "tags": []
   },
   "outputs": [],
   "source": [
    "import pandas as pd\n",
    "import numpy as np\n",
    "import matplotlib as mpl\n",
    "from matplotlib import pyplot as plt\n",
    "import seaborn as sns\n",
    "from datetime import date\n",
    "from scipy import stats\n",
    "from scipy.stats import norm, skew #for some statistics\n",
    "\n",
    "import plotly.express as px\n",
    "import plotly.graph_objects as go\n",
    "import plotly.figure_factory as ff\n",
    "from plotly.colors import n_colors\n",
    "from plotly.subplots import make_subplots\n",
    "\n",
    "import warnings\n",
    "warnings.filterwarnings(\"ignore\")\n",
    "%matplotlib inline\n",
    "pd.set_option(\"display.max_columns\",None)\n",
    "pd.set_option(\"display.max_rows\",None)\n",
    "plt.style.use('seaborn')\n",
    "\n",
    "from collections import Counter\n",
    "import datetime\n",
    "import wordcloud\n",
    "import json"
   ]
  },
  {
   "cell_type": "code",
   "execution_count": null,
   "id": "cardiovascular-profession",
   "metadata": {
    "execution": {
     "iopub.execute_input": "2021-04-22T06:39:35.877033Z",
     "iopub.status.busy": "2021-04-22T06:39:35.876319Z",
     "iopub.status.idle": "2021-04-22T06:39:35.911484Z",
     "shell.execute_reply": "2021-04-22T06:39:35.910787Z"
    },
    "papermill": {
     "duration": 0.158429,
     "end_time": "2021-04-22T06:39:35.911655",
     "exception": false,
     "start_time": "2021-04-22T06:39:35.753226",
     "status": "completed"
    },
    "tags": []
   },
   "outputs": [],
   "source": [
    "df = pd.read_csv('../input/startup-success-prediction/startup data.csv')"
   ]
  },
  {
   "cell_type": "code",
   "execution_count": null,
   "id": "interstate-retention",
   "metadata": {
    "execution": {
     "iopub.execute_input": "2021-04-22T06:39:36.161995Z",
     "iopub.status.busy": "2021-04-22T06:39:36.161323Z",
     "iopub.status.idle": "2021-04-22T06:39:36.216589Z",
     "shell.execute_reply": "2021-04-22T06:39:36.217070Z"
    },
    "papermill": {
     "duration": 0.187789,
     "end_time": "2021-04-22T06:39:36.217241",
     "exception": false,
     "start_time": "2021-04-22T06:39:36.029452",
     "status": "completed"
    },
    "scrolled": true,
    "tags": []
   },
   "outputs": [],
   "source": [
    "df.head(10)"
   ]
  },
  {
   "cell_type": "code",
   "execution_count": null,
   "id": "perfect-friday",
   "metadata": {
    "execution": {
     "iopub.execute_input": "2021-04-22T06:39:36.708838Z",
     "iopub.status.busy": "2021-04-22T06:39:36.703267Z",
     "iopub.status.idle": "2021-04-22T06:39:36.725753Z",
     "shell.execute_reply": "2021-04-22T06:39:36.726379Z"
    },
    "papermill": {
     "duration": 0.151103,
     "end_time": "2021-04-22T06:39:36.726564",
     "exception": false,
     "start_time": "2021-04-22T06:39:36.575461",
     "status": "completed"
    },
    "tags": []
   },
   "outputs": [],
   "source": [
    "df.info()"
   ]
  },
  {
   "cell_type": "code",
   "execution_count": null,
   "id": "continent-triple",
   "metadata": {
    "execution": {
     "iopub.execute_input": "2021-04-22T06:39:37.212731Z",
     "iopub.status.busy": "2021-04-22T06:39:37.211737Z",
     "iopub.status.idle": "2021-04-22T06:39:37.218112Z",
     "shell.execute_reply": "2021-04-22T06:39:37.218615Z"
    },
    "papermill": {
     "duration": 0.130705,
     "end_time": "2021-04-22T06:39:37.218833",
     "exception": false,
     "start_time": "2021-04-22T06:39:37.088128",
     "status": "completed"
    },
    "scrolled": true,
    "tags": []
   },
   "outputs": [],
   "source": [
    "df.columns"
   ]
  },
  {
   "cell_type": "code",
   "execution_count": null,
   "id": "composite-michael",
   "metadata": {
    "execution": {
     "iopub.execute_input": "2021-04-22T06:39:37.707212Z",
     "iopub.status.busy": "2021-04-22T06:39:37.706224Z",
     "iopub.status.idle": "2021-04-22T06:39:37.734751Z",
     "shell.execute_reply": "2021-04-22T06:39:37.735211Z"
    },
    "papermill": {
     "duration": 0.152748,
     "end_time": "2021-04-22T06:39:37.735390",
     "exception": false,
     "start_time": "2021-04-22T06:39:37.582642",
     "status": "completed"
    },
    "tags": []
   },
   "outputs": [],
   "source": [
    "numeric=['int8', 'int16', 'int32', 'int64', 'float16', 'float32', 'float64']\n",
    "df_num=df.select_dtypes(include=numeric)\n",
    "df_num.head(3)"
   ]
  },
  {
   "cell_type": "code",
   "execution_count": null,
   "id": "micro-saying",
   "metadata": {
    "execution": {
     "iopub.execute_input": "2021-04-22T06:39:38.272799Z",
     "iopub.status.busy": "2021-04-22T06:39:38.272150Z",
     "iopub.status.idle": "2021-04-22T06:39:38.290507Z",
     "shell.execute_reply": "2021-04-22T06:39:38.290994Z"
    },
    "papermill": {
     "duration": 0.143356,
     "end_time": "2021-04-22T06:39:38.291167",
     "exception": false,
     "start_time": "2021-04-22T06:39:38.147811",
     "status": "completed"
    },
    "tags": []
   },
   "outputs": [],
   "source": [
    "df_cat=df.select_dtypes(include='object')\n",
    "df_cat.head(3)"
   ]
  },
  {
   "cell_type": "code",
   "execution_count": null,
   "id": "different-moore",
   "metadata": {
    "execution": {
     "iopub.execute_input": "2021-04-22T06:39:38.790384Z",
     "iopub.status.busy": "2021-04-22T06:39:38.789643Z",
     "iopub.status.idle": "2021-04-22T06:39:40.360797Z",
     "shell.execute_reply": "2021-04-22T06:39:40.360198Z"
    },
    "papermill": {
     "duration": 1.699961,
     "end_time": "2021-04-22T06:39:40.360944",
     "exception": false,
     "start_time": "2021-04-22T06:39:38.660983",
     "status": "completed"
    },
    "tags": []
   },
   "outputs": [],
   "source": [
    "df['status'] = df.status.map({'acquired':1, 'closed':0})"
   ]
  },
  {
   "cell_type": "code",
   "execution_count": null,
   "id": "superb-wrong",
   "metadata": {
    "execution": {
     "iopub.execute_input": "2021-04-22T06:39:41.214206Z",
     "iopub.status.busy": "2021-04-22T06:39:41.213427Z",
     "iopub.status.idle": "2021-04-22T06:39:41.218649Z",
     "shell.execute_reply": "2021-04-22T06:39:41.218025Z"
    },
    "papermill": {
     "duration": 0.227437,
     "end_time": "2021-04-22T06:39:41.218800",
     "exception": false,
     "start_time": "2021-04-22T06:39:40.991363",
     "status": "completed"
    },
    "tags": []
   },
   "outputs": [],
   "source": [
    "#Tipe data status diganti dari object ke int\n",
    "df['status'].astype(int)"
   ]
  },
  {
   "cell_type": "code",
   "execution_count": null,
   "id": "physical-train",
   "metadata": {
    "execution": {
     "iopub.execute_input": "2021-04-22T06:39:42.077245Z",
     "iopub.status.busy": "2021-04-22T06:39:42.076532Z",
     "iopub.status.idle": "2021-04-22T06:39:42.164503Z",
     "shell.execute_reply": "2021-04-22T06:39:42.165103Z"
    },
    "papermill": {
     "duration": 0.302338,
     "end_time": "2021-04-22T06:39:42.165280",
     "exception": false,
     "start_time": "2021-04-22T06:39:41.862942",
     "status": "completed"
    },
    "tags": []
   },
   "outputs": [],
   "source": [
    "#labels dan status\n",
    "for index, row in df.iterrows():\n",
    "    if row['labels']!=row['status']:\n",
    "        print(index, row['labels'], row['status'])"
   ]
  },
  {
   "cell_type": "code",
   "execution_count": null,
   "id": "regulation-group",
   "metadata": {
    "execution": {
     "iopub.execute_input": "2021-04-22T06:39:42.587329Z",
     "iopub.status.busy": "2021-04-22T06:39:42.586583Z",
     "iopub.status.idle": "2021-04-22T06:39:42.589371Z",
     "shell.execute_reply": "2021-04-22T06:39:42.588846Z"
    },
    "papermill": {
     "duration": 0.216634,
     "end_time": "2021-04-22T06:39:42.589507",
     "exception": false,
     "start_time": "2021-04-22T06:39:42.372873",
     "status": "completed"
    },
    "tags": []
   },
   "outputs": [],
   "source": [
    "df.drop([\"labels\"], axis=1, inplace=True)"
   ]
  },
  {
   "cell_type": "code",
   "execution_count": null,
   "id": "orange-rates",
   "metadata": {
    "execution": {
     "iopub.execute_input": "2021-04-22T06:39:44.246955Z",
     "iopub.status.busy": "2021-04-22T06:39:44.246277Z",
     "iopub.status.idle": "2021-04-22T06:39:44.401821Z",
     "shell.execute_reply": "2021-04-22T06:39:44.402318Z"
    },
    "papermill": {
     "duration": 0.371705,
     "end_time": "2021-04-22T06:39:44.402488",
     "exception": false,
     "start_time": "2021-04-22T06:39:44.030783",
     "status": "completed"
    },
    "tags": []
   },
   "outputs": [],
   "source": [
    "describeNum = df.describe(include =['float64', 'int64', 'float', 'int'])\n",
    "describeNum.T.style.background_gradient(cmap='viridis',low=0.2,high=0.1)"
   ]
  },
  {
   "cell_type": "code",
   "execution_count": null,
   "id": "helpful-miniature",
   "metadata": {
    "execution": {
     "iopub.execute_input": "2021-04-22T06:39:44.825814Z",
     "iopub.status.busy": "2021-04-22T06:39:44.824958Z",
     "iopub.status.idle": "2021-04-22T06:39:44.882105Z",
     "shell.execute_reply": "2021-04-22T06:39:44.882630Z"
    },
    "papermill": {
     "duration": 0.273885,
     "end_time": "2021-04-22T06:39:44.882835",
     "exception": false,
     "start_time": "2021-04-22T06:39:44.608950",
     "status": "completed"
    },
    "tags": []
   },
   "outputs": [],
   "source": [
    "describeNumCat = df.describe(include=[\"O\"])\n",
    "describeNumCat.T.style.background_gradient(cmap='viridis',low=0.2,high=0.1)\n"
   ]
  },
  {
   "cell_type": "code",
   "execution_count": null,
   "id": "incoming-video",
   "metadata": {
    "execution": {
     "iopub.execute_input": "2021-04-22T06:39:46.144222Z",
     "iopub.status.busy": "2021-04-22T06:39:46.136528Z",
     "iopub.status.idle": "2021-04-22T06:39:46.236127Z",
     "shell.execute_reply": "2021-04-22T06:39:46.237349Z"
    },
    "papermill": {
     "duration": 0.319083,
     "end_time": "2021-04-22T06:39:46.237713",
     "exception": false,
     "start_time": "2021-04-22T06:39:45.918630",
     "status": "completed"
    },
    "tags": []
   },
   "outputs": [],
   "source": [
    "cats = ['state_code','zip_code','id','city','Unnamed: 6','name','founded_at','closed_at','first_funding_at','last_funding_at','state_code.1','category_code','object_id','status'] \n",
    "for col in cats:\n",
    "    print(f'''Value count kolom {col}:''')\n",
    "    print(df[col].value_counts())\n",
    "    print()"
   ]
  },
  {
   "cell_type": "code",
   "execution_count": null,
   "id": "double-condition",
   "metadata": {
    "execution": {
     "iopub.execute_input": "2021-04-22T06:39:47.125790Z",
     "iopub.status.busy": "2021-04-22T06:39:47.125044Z",
     "iopub.status.idle": "2021-04-22T06:39:47.144789Z",
     "shell.execute_reply": "2021-04-22T06:39:47.145327Z"
    },
    "papermill": {
     "duration": 0.245528,
     "end_time": "2021-04-22T06:39:47.145500",
     "exception": false,
     "start_time": "2021-04-22T06:39:46.899972",
     "status": "completed"
    },
    "scrolled": true,
    "tags": []
   },
   "outputs": [],
   "source": [
    "null=pd.DataFrame(df.isnull().sum(),columns=[\"Null Values\"])\n",
    "null[\"% Missing Values\"]=(df.isna().sum()/len(df)*100)\n",
    "null = null[null[\"% Missing Values\"] > 0]\n",
    "null.style.background_gradient(cmap='viridis',low =0.2,high=0.1) "
   ]
  },
  {
   "cell_type": "code",
   "execution_count": null,
   "id": "editorial-worthy",
   "metadata": {
    "execution": {
     "iopub.execute_input": "2021-04-22T06:39:48.015250Z",
     "iopub.status.busy": "2021-04-22T06:39:48.004217Z",
     "iopub.status.idle": "2021-04-22T06:39:48.019261Z",
     "shell.execute_reply": "2021-04-22T06:39:48.018753Z"
    },
    "papermill": {
     "duration": 0.230112,
     "end_time": "2021-04-22T06:39:48.019405",
     "exception": false,
     "start_time": "2021-04-22T06:39:47.789293",
     "status": "completed"
    },
    "tags": []
   },
   "outputs": [],
   "source": [
    "# Checking Missing Values Column \n",
    "df[[\"Unnamed: 6\", \"closed_at\", \"age_first_milestone_year\", \"age_last_milestone_year\", \"state_code.1\", \"status\"]].head(4)"
   ]
  },
  {
   "cell_type": "code",
   "execution_count": null,
   "id": "caring-fraction",
   "metadata": {
    "execution": {
     "iopub.execute_input": "2021-04-22T06:39:49.732380Z",
     "iopub.status.busy": "2021-04-22T06:39:49.731319Z",
     "iopub.status.idle": "2021-04-22T06:39:49.802609Z",
     "shell.execute_reply": "2021-04-22T06:39:49.803145Z"
    },
    "papermill": {
     "duration": 0.29243,
     "end_time": "2021-04-22T06:39:49.803321",
     "exception": false,
     "start_time": "2021-04-22T06:39:49.510891",
     "status": "completed"
    },
    "tags": []
   },
   "outputs": [],
   "source": [
    "df['Unnamed: 6'] = df.apply(lambda row: (row.city) + \" \" + (row.state_code) + \" \" +(row.zip_code)  , axis = 1)\n",
    "df.head()"
   ]
  },
  {
   "cell_type": "code",
   "execution_count": null,
   "id": "parental-ballot",
   "metadata": {
    "execution": {
     "iopub.execute_input": "2021-04-22T06:39:50.238650Z",
     "iopub.status.busy": "2021-04-22T06:39:50.237626Z",
     "iopub.status.idle": "2021-04-22T06:39:50.244801Z",
     "shell.execute_reply": "2021-04-22T06:39:50.244149Z"
    },
    "papermill": {
     "duration": 0.226726,
     "end_time": "2021-04-22T06:39:50.244940",
     "exception": false,
     "start_time": "2021-04-22T06:39:50.018214",
     "status": "completed"
    },
    "tags": []
   },
   "outputs": [],
   "source": [
    "# Total Missing Values kolom \"Unnamed: 6\"\n",
    "totalNull = df['Unnamed: 6'].isnull().sum()\n",
    "\n",
    "print('Total Missing Values Kolom \"Unnamed: 6\": ', totalNull)"
   ]
  },
  {
   "cell_type": "code",
   "execution_count": null,
   "id": "capital-gibraltar",
   "metadata": {
    "execution": {
     "iopub.execute_input": "2021-04-22T06:39:51.112251Z",
     "iopub.status.busy": "2021-04-22T06:39:51.111125Z",
     "iopub.status.idle": "2021-04-22T06:39:51.114392Z",
     "shell.execute_reply": "2021-04-22T06:39:51.115265Z"
    },
    "papermill": {
     "duration": 0.226574,
     "end_time": "2021-04-22T06:39:51.115486",
     "exception": false,
     "start_time": "2021-04-22T06:39:50.888912",
     "status": "completed"
    },
    "tags": []
   },
   "outputs": [],
   "source": [
    "#diisi kosong\n",
    "df['closed_at'] = df['closed_at'].fillna(value=\"31/12/2013\")"
   ]
  },
  {
   "cell_type": "code",
   "execution_count": null,
   "id": "ideal-inquiry",
   "metadata": {
    "execution": {
     "iopub.execute_input": "2021-04-22T06:39:52.040430Z",
     "iopub.status.busy": "2021-04-22T06:39:52.039792Z",
     "iopub.status.idle": "2021-04-22T06:39:52.043019Z",
     "shell.execute_reply": "2021-04-22T06:39:52.043453Z"
    },
    "papermill": {
     "duration": 0.233035,
     "end_time": "2021-04-22T06:39:52.043646",
     "exception": false,
     "start_time": "2021-04-22T06:39:51.810611",
     "status": "completed"
    },
    "tags": []
   },
   "outputs": [],
   "source": [
    "totalNull = df['closed_at'].isnull().sum()\n",
    "\n",
    "print('Total Missing Values Kolom \"closed_at\": ', totalNull)"
   ]
  },
  {
   "cell_type": "code",
   "execution_count": null,
   "id": "vocational-evolution",
   "metadata": {
    "execution": {
     "iopub.execute_input": "2021-04-22T06:39:52.946925Z",
     "iopub.status.busy": "2021-04-22T06:39:52.946088Z",
     "iopub.status.idle": "2021-04-22T06:39:52.957199Z",
     "shell.execute_reply": "2021-04-22T06:39:52.957762Z"
    },
    "papermill": {
     "duration": 0.247372,
     "end_time": "2021-04-22T06:39:52.957953",
     "exception": false,
     "start_time": "2021-04-22T06:39:52.710581",
     "status": "completed"
    },
    "tags": []
   },
   "outputs": [],
   "source": [
    "df[['age_first_milestone_year','age_last_milestone_year','milestones']].head()"
   ]
  },
  {
   "cell_type": "code",
   "execution_count": null,
   "id": "black-adult",
   "metadata": {
    "execution": {
     "iopub.execute_input": "2021-04-22T06:39:53.837836Z",
     "iopub.status.busy": "2021-04-22T06:39:53.837049Z",
     "iopub.status.idle": "2021-04-22T06:39:53.844033Z",
     "shell.execute_reply": "2021-04-22T06:39:53.844596Z"
    },
    "papermill": {
     "duration": 0.230998,
     "end_time": "2021-04-22T06:39:53.844784",
     "exception": false,
     "start_time": "2021-04-22T06:39:53.613786",
     "status": "completed"
    },
    "tags": []
   },
   "outputs": [],
   "source": [
    "df['age_first_milestone_year'] = df['age_first_milestone_year'].fillna(value=\"0\")\n",
    "df['age_last_milestone_year'] = df['age_last_milestone_year'].fillna(value=\"0\")"
   ]
  },
  {
   "cell_type": "code",
   "execution_count": null,
   "id": "convinced-grass",
   "metadata": {
    "execution": {
     "iopub.execute_input": "2021-04-22T06:39:55.151656Z",
     "iopub.status.busy": "2021-04-22T06:39:55.150932Z",
     "iopub.status.idle": "2021-04-22T06:39:55.246909Z",
     "shell.execute_reply": "2021-04-22T06:39:55.246338Z"
    },
    "papermill": {
     "duration": 0.315188,
     "end_time": "2021-04-22T06:39:55.247059",
     "exception": false,
     "start_time": "2021-04-22T06:39:54.931871",
     "status": "completed"
    },
    "tags": []
   },
   "outputs": [],
   "source": [
    "for index, row in df.iterrows():\n",
    "    if row['state_code']!=row['state_code.1']:\n",
    "        print(index, row['state_code'], row['state_code.1'])"
   ]
  },
  {
   "cell_type": "code",
   "execution_count": null,
   "id": "virgin-miniature",
   "metadata": {
    "execution": {
     "iopub.execute_input": "2021-04-22T06:39:55.687215Z",
     "iopub.status.busy": "2021-04-22T06:39:55.686167Z",
     "iopub.status.idle": "2021-04-22T06:39:55.689365Z",
     "shell.execute_reply": "2021-04-22T06:39:55.688826Z"
    },
    "papermill": {
     "duration": 0.226089,
     "end_time": "2021-04-22T06:39:55.689501",
     "exception": false,
     "start_time": "2021-04-22T06:39:55.463412",
     "status": "completed"
    },
    "tags": []
   },
   "outputs": [],
   "source": [
    "df.drop([\"state_code.1\"], axis=1, inplace=True)"
   ]
  },
  {
   "cell_type": "code",
   "execution_count": null,
   "id": "critical-reading",
   "metadata": {
    "execution": {
     "iopub.execute_input": "2021-04-22T06:39:56.151609Z",
     "iopub.status.busy": "2021-04-22T06:39:56.150304Z",
     "iopub.status.idle": "2021-04-22T06:39:56.161156Z",
     "shell.execute_reply": "2021-04-22T06:39:56.160343Z"
    },
    "papermill": {
     "duration": 0.252651,
     "end_time": "2021-04-22T06:39:56.161347",
     "exception": false,
     "start_time": "2021-04-22T06:39:55.908696",
     "status": "completed"
    },
    "tags": []
   },
   "outputs": [],
   "source": [
    "null=pd.DataFrame(df.isnull().sum(),columns=[\"Null Values\"])\n",
    "null[\"% Missing Values\"]=(df.isna().sum()/len(df)*100)\n",
    "null = null[null[\"% Missing Values\"] > 0]\n",
    "null.style.background_gradient(cmap='viridis',low =0.2,high=0.1) "
   ]
  },
  {
   "cell_type": "code",
   "execution_count": null,
   "id": "plain-exploration",
   "metadata": {
    "execution": {
     "iopub.execute_input": "2021-04-22T06:39:58.443925Z",
     "iopub.status.busy": "2021-04-22T06:39:58.442923Z",
     "iopub.status.idle": "2021-04-22T06:39:58.449316Z",
     "shell.execute_reply": "2021-04-22T06:39:58.449832Z"
    },
    "papermill": {
     "duration": 0.229785,
     "end_time": "2021-04-22T06:39:58.450032",
     "exception": false,
     "start_time": "2021-04-22T06:39:58.220247",
     "status": "completed"
    },
    "tags": []
   },
   "outputs": [],
   "source": [
    "df['age_first_milestone_year'] = df.age_first_milestone_year.astype(float)\n",
    "df['age_last_milestone_year'] = df.age_last_milestone_year.astype(float)"
   ]
  },
  {
   "cell_type": "code",
   "execution_count": null,
   "id": "ahead-verification",
   "metadata": {
    "execution": {
     "iopub.execute_input": "2021-04-22T06:39:58.898737Z",
     "iopub.status.busy": "2021-04-22T06:39:58.897773Z",
     "iopub.status.idle": "2021-04-22T06:40:03.944212Z",
     "shell.execute_reply": "2021-04-22T06:40:03.944744Z"
    },
    "papermill": {
     "duration": 5.271293,
     "end_time": "2021-04-22T06:40:03.944920",
     "exception": false,
     "start_time": "2021-04-22T06:39:58.673627",
     "status": "completed"
    },
    "tags": []
   },
   "outputs": [],
   "source": [
    "features = ['age_first_funding_year','age_last_funding_year','age_first_milestone_year','age_last_milestone_year','relationships','funding_rounds','funding_total_usd','milestones','is_CA','is_NY','is_MA','is_TX','is_otherstate','is_software','is_web','is_mobile','is_enterprise','is_advertising','is_gamesvideo','is_ecommerce','is_biotech','is_consulting','is_othercategory','has_VC','has_angel','has_roundA','has_roundB','has_roundC','has_roundD','avg_participants','is_top500','status']\n",
    "\n",
    "plt.figure(figsize=(30,20))\n",
    "ax = sns.heatmap(data = df[features].corr(),cmap='YlGnBu',annot=True)\n",
    "\n",
    "bottom, top = ax.get_ylim()\n",
    "ax.set_ylim(bottom + 0.5,top - 0.5)"
   ]
  },
  {
   "cell_type": "code",
   "execution_count": null,
   "id": "fifth-stamp",
   "metadata": {
    "execution": {
     "iopub.execute_input": "2021-04-22T06:40:04.436615Z",
     "iopub.status.busy": "2021-04-22T06:40:04.435879Z",
     "iopub.status.idle": "2021-04-22T06:40:05.231370Z",
     "shell.execute_reply": "2021-04-22T06:40:05.230387Z"
    },
    "papermill": {
     "duration": 1.04136,
     "end_time": "2021-04-22T06:40:05.231525",
     "exception": false,
     "start_time": "2021-04-22T06:40:04.190165",
     "status": "completed"
    },
    "tags": []
   },
   "outputs": [],
   "source": [
    "# 'SalePrice' correlation matrix (zoomed heatmap style)\n",
    "\n",
    "#number of variables for heatmap\n",
    "cols = df[features].corr().nlargest(10,'status')['status'].index\n",
    "cm = np.corrcoef(df[cols].values.T) \n",
    "sns.set(font_scale=1.25)\n",
    "hm = sns.heatmap(cm, cbar=True, annot=True, square=True, cmap='YlGnBu', fmt='.2f', annot_kws={'size': 10}, yticklabels=cols.values, xticklabels=cols.values)\n",
    "plt.show()"
   ]
  },
  {
   "cell_type": "code",
   "execution_count": null,
   "id": "directed-senator",
   "metadata": {
    "execution": {
     "iopub.execute_input": "2021-04-22T06:40:06.719408Z",
     "iopub.status.busy": "2021-04-22T06:40:06.718325Z",
     "iopub.status.idle": "2021-04-22T06:40:06.935855Z",
     "shell.execute_reply": "2021-04-22T06:40:06.936326Z"
    },
    "papermill": {
     "duration": 0.482167,
     "end_time": "2021-04-22T06:40:06.936519",
     "exception": false,
     "start_time": "2021-04-22T06:40:06.454352",
     "status": "completed"
    },
    "tags": []
   },
   "outputs": [],
   "source": [
    "fig, ax = plt.subplots()\n",
    "_ = plt.scatter(x=df['age_first_funding_year'], y=df['age_last_funding_year'], edgecolors=\"#000000\", linewidths=0.5)\n",
    "_ = ax.set(xlabel=\"age_first_funding_year\", ylabel=\"age_last_funding_year\")"
   ]
  },
  {
   "cell_type": "code",
   "execution_count": null,
   "id": "handmade-scratch",
   "metadata": {
    "execution": {
     "iopub.execute_input": "2021-04-22T06:40:07.937218Z",
     "iopub.status.busy": "2021-04-22T06:40:07.909436Z",
     "iopub.status.idle": "2021-04-22T06:40:08.111231Z",
     "shell.execute_reply": "2021-04-22T06:40:08.110685Z"
    },
    "papermill": {
     "duration": 0.446574,
     "end_time": "2021-04-22T06:40:08.111385",
     "exception": false,
     "start_time": "2021-04-22T06:40:07.664811",
     "status": "completed"
    },
    "scrolled": true,
    "tags": []
   },
   "outputs": [],
   "source": [
    "fig, ax = plt.subplots()\n",
    "_ = plt.scatter(x=df['has_roundB'], y=df['funding_rounds'], edgecolors=\"#000000\", linewidths=0.5)\n",
    "_ = ax.set(xlabel=\"has_roundB\", ylabel=\"funding_rounds\")"
   ]
  },
  {
   "cell_type": "code",
   "execution_count": null,
   "id": "norwegian-limit",
   "metadata": {
    "execution": {
     "iopub.execute_input": "2021-04-22T06:40:08.631814Z",
     "iopub.status.busy": "2021-04-22T06:40:08.630730Z",
     "iopub.status.idle": "2021-04-22T06:40:08.812834Z",
     "shell.execute_reply": "2021-04-22T06:40:08.811612Z"
    },
    "papermill": {
     "duration": 0.457308,
     "end_time": "2021-04-22T06:40:08.813001",
     "exception": false,
     "start_time": "2021-04-22T06:40:08.355693",
     "status": "completed"
    },
    "tags": []
   },
   "outputs": [],
   "source": [
    "fig, ax = plt.subplots()\n",
    "_ = plt.scatter(x=df['has_roundC'], y=df['funding_rounds'], edgecolors=\"#000000\", linewidths=0.5)\n",
    "_ = ax.set(xlabel=\"has_roundC\", ylabel=\"funding_rounds\")"
   ]
  },
  {
   "cell_type": "code",
   "execution_count": null,
   "id": "competent-hawaiian",
   "metadata": {
    "execution": {
     "iopub.execute_input": "2021-04-22T06:40:09.319295Z",
     "iopub.status.busy": "2021-04-22T06:40:09.318529Z",
     "iopub.status.idle": "2021-04-22T06:40:09.537085Z",
     "shell.execute_reply": "2021-04-22T06:40:09.537698Z"
    },
    "papermill": {
     "duration": 0.470286,
     "end_time": "2021-04-22T06:40:09.537882",
     "exception": false,
     "start_time": "2021-04-22T06:40:09.067596",
     "status": "completed"
    },
    "tags": []
   },
   "outputs": [],
   "source": [
    "fig, ax = plt.subplots()\n",
    "_ = plt.scatter(x=df['status'], y=df['relationships'], edgecolors=\"#000000\", linewidths=0.5)\n",
    "_ = ax.set(xlabel=\"status\", ylabel=\"relationships\")"
   ]
  },
  {
   "cell_type": "code",
   "execution_count": null,
   "id": "tutorial-celtic",
   "metadata": {
    "execution": {
     "iopub.execute_input": "2021-04-22T06:40:10.035266Z",
     "iopub.status.busy": "2021-04-22T06:40:10.034597Z",
     "iopub.status.idle": "2021-04-22T06:40:10.246327Z",
     "shell.execute_reply": "2021-04-22T06:40:10.246854Z"
    },
    "papermill": {
     "duration": 0.464588,
     "end_time": "2021-04-22T06:40:10.247052",
     "exception": false,
     "start_time": "2021-04-22T06:40:09.782464",
     "status": "completed"
    },
    "tags": []
   },
   "outputs": [],
   "source": [
    "fig, ax = plt.subplots()\n",
    "_ = plt.scatter(x=df['status'], y=df['milestones'], edgecolors=\"#000000\", linewidths=0.5)\n",
    "_ = ax.set(xlabel=\"status\", ylabel=\"milestones\")"
   ]
  },
  {
   "cell_type": "code",
   "execution_count": null,
   "id": "impressive-bangkok",
   "metadata": {
    "execution": {
     "iopub.execute_input": "2021-04-22T06:40:11.252621Z",
     "iopub.status.busy": "2021-04-22T06:40:11.251829Z",
     "iopub.status.idle": "2021-04-22T06:40:12.566523Z",
     "shell.execute_reply": "2021-04-22T06:40:12.565841Z"
    },
    "papermill": {
     "duration": 1.569412,
     "end_time": "2021-04-22T06:40:12.566692",
     "exception": false,
     "start_time": "2021-04-22T06:40:10.997280",
     "status": "completed"
    },
    "tags": []
   },
   "outputs": [],
   "source": [
    "featuresNum = ['age_first_funding_year','age_last_funding_year','relationships','funding_rounds','funding_total_usd','milestones','avg_participants']\n",
    "\n",
    "plt.figure(figsize=(15, 7))\n",
    "for i in range(0, len(featuresNum)):\n",
    "    plt.subplot(1, len(featuresNum), i+1)\n",
    "    sns.boxplot(y=df[featuresNum[i]], color='green', orient='v')\n",
    "    plt.tight_layout()"
   ]
  },
  {
   "cell_type": "code",
   "execution_count": null,
   "id": "quality-double",
   "metadata": {
    "execution": {
     "iopub.execute_input": "2021-04-22T06:40:13.616182Z",
     "iopub.status.busy": "2021-04-22T06:40:13.601908Z",
     "iopub.status.idle": "2021-04-22T06:40:13.827893Z",
     "shell.execute_reply": "2021-04-22T06:40:13.827362Z"
    },
    "papermill": {
     "duration": 0.510591,
     "end_time": "2021-04-22T06:40:13.828040",
     "exception": false,
     "start_time": "2021-04-22T06:40:13.317449",
     "status": "completed"
    },
    "tags": []
   },
   "outputs": [],
   "source": [
    "cdf = df[\"founded_at\"].apply(lambda x: '' + x[:2]).value_counts() \\\n",
    "            .to_frame().reset_index() \\\n",
    "            .rename(columns={\"index\": \"year\", \"founded_at\": \"No_of_startup\"})\n",
    "\n",
    "fig, ax = plt.subplots()\n",
    "_ = sns.barplot(x=\"year\", y=\"No_of_startup\", data=cdf, \n",
    "                palette=sns.color_palette(['#003f5c', '#ffa600'], n_colors=7), ax=ax)\n",
    "_ = ax.set(xlabel=\"Year\", ylabel=\"No. of startup\")"
   ]
  },
  {
   "cell_type": "code",
   "execution_count": null,
   "id": "expensive-teaching",
   "metadata": {
    "execution": {
     "iopub.execute_input": "2021-04-22T06:40:14.339705Z",
     "iopub.status.busy": "2021-04-22T06:40:14.338988Z",
     "iopub.status.idle": "2021-04-22T06:40:14.344374Z",
     "shell.execute_reply": "2021-04-22T06:40:14.343572Z"
    },
    "papermill": {
     "duration": 0.265712,
     "end_time": "2021-04-22T06:40:14.344533",
     "exception": false,
     "start_time": "2021-04-22T06:40:14.078821",
     "status": "completed"
    },
    "tags": []
   },
   "outputs": [],
   "source": [
    "df[\"founded_at\"].apply(lambda x: '20:' + x[:2]).value_counts(normalize=False)"
   ]
  },
  {
   "cell_type": "code",
   "execution_count": null,
   "id": "regional-advancement",
   "metadata": {
    "execution": {
     "iopub.execute_input": "2021-04-22T06:40:14.888279Z",
     "iopub.status.busy": "2021-04-22T06:40:14.887599Z",
     "iopub.status.idle": "2021-04-22T06:40:14.892188Z",
     "shell.execute_reply": "2021-04-22T06:40:14.891510Z"
    },
    "papermill": {
     "duration": 0.295571,
     "end_time": "2021-04-22T06:40:14.892330",
     "exception": false,
     "start_time": "2021-04-22T06:40:14.596759",
     "status": "completed"
    },
    "tags": []
   },
   "outputs": [],
   "source": [
    "df[\"founded_at\"].apply(lambda x: '20:' + x[:2]).value_counts(normalize=True)"
   ]
  },
  {
   "cell_type": "markdown",
   "id": "harmful-emphasis",
   "metadata": {
    "papermill": {
     "duration": 0.256774,
     "end_time": "2021-04-22T06:40:15.405204",
     "exception": false,
     "start_time": "2021-04-22T06:40:15.148430",
     "status": "completed"
    },
    "tags": []
   },
   "source": [
    "total ada 563 startup atau 60% startup yang berdiri pada tahun 2001"
   ]
  },
  {
   "cell_type": "code",
   "execution_count": null,
   "id": "greatest-semester",
   "metadata": {
    "execution": {
     "iopub.execute_input": "2021-04-22T06:40:15.914011Z",
     "iopub.status.busy": "2021-04-22T06:40:15.913323Z",
     "iopub.status.idle": "2021-04-22T06:40:15.917853Z",
     "shell.execute_reply": "2021-04-22T06:40:15.917189Z"
    },
    "papermill": {
     "duration": 0.263361,
     "end_time": "2021-04-22T06:40:15.918000",
     "exception": false,
     "start_time": "2021-04-22T06:40:15.654639",
     "status": "completed"
    },
    "scrolled": true,
    "tags": []
   },
   "outputs": [],
   "source": [
    "df[\"closed_at\"].apply(lambda x: '20:' + x[:2]).value_counts(normalize=True)"
   ]
  },
  {
   "cell_type": "code",
   "execution_count": null,
   "id": "italic-belle",
   "metadata": {
    "execution": {
     "iopub.execute_input": "2021-04-22T06:40:17.438366Z",
     "iopub.status.busy": "2021-04-22T06:40:17.437671Z",
     "iopub.status.idle": "2021-04-22T06:40:17.440209Z",
     "shell.execute_reply": "2021-04-22T06:40:17.440806Z"
    },
    "papermill": {
     "duration": 0.26627,
     "end_time": "2021-04-22T06:40:17.440974",
     "exception": false,
     "start_time": "2021-04-22T06:40:17.174704",
     "status": "completed"
    },
    "tags": []
   },
   "outputs": [],
   "source": [
    "df_acquired = df[(df[\"status\"] == True)]\n",
    "df_acquired.shape"
   ]
  },
  {
   "cell_type": "code",
   "execution_count": null,
   "id": "american-ranch",
   "metadata": {
    "execution": {
     "iopub.execute_input": "2021-04-22T06:40:17.944982Z",
     "iopub.status.busy": "2021-04-22T06:40:17.944174Z",
     "iopub.status.idle": "2021-04-22T06:40:17.951638Z",
     "shell.execute_reply": "2021-04-22T06:40:17.951078Z"
    },
    "papermill": {
     "duration": 0.260471,
     "end_time": "2021-04-22T06:40:17.951796",
     "exception": false,
     "start_time": "2021-04-22T06:40:17.691325",
     "status": "completed"
    },
    "tags": []
   },
   "outputs": [],
   "source": [
    "df_closed = df[(df[\"status\"] == False)]\n",
    "df_closed.shape"
   ]
  },
  {
   "cell_type": "code",
   "execution_count": null,
   "id": "assured-binary",
   "metadata": {
    "execution": {
     "iopub.execute_input": "2021-04-22T06:40:18.481225Z",
     "iopub.status.busy": "2021-04-22T06:40:18.480503Z",
     "iopub.status.idle": "2021-04-22T06:40:18.551100Z",
     "shell.execute_reply": "2021-04-22T06:40:18.551652Z"
    },
    "papermill": {
     "duration": 0.345313,
     "end_time": "2021-04-22T06:40:18.551840",
     "exception": false,
     "start_time": "2021-04-22T06:40:18.206527",
     "status": "completed"
    },
    "tags": []
   },
   "outputs": [],
   "source": [
    "value_counts = df[\"status\"].value_counts().to_dict()\n",
    "fig, ax = plt.subplots()\n",
    "_ = ax.pie(x=[value_counts[False], value_counts[True]], labels=['No', 'Yes'], \n",
    "           colors=['#003f5c', '#ffa600'], textprops={'color': '#040204'})\n",
    "_ = ax.axis('equal')\n",
    "_ = ax.set_title('Startup Acquired')"
   ]
  },
  {
   "cell_type": "code",
   "execution_count": null,
   "id": "widespread-establishment",
   "metadata": {
    "execution": {
     "iopub.execute_input": "2021-04-22T06:40:19.573618Z",
     "iopub.status.busy": "2021-04-22T06:40:19.572713Z",
     "iopub.status.idle": "2021-04-22T06:40:19.577147Z",
     "shell.execute_reply": "2021-04-22T06:40:19.576455Z"
    },
    "papermill": {
     "duration": 0.26156,
     "end_time": "2021-04-22T06:40:19.577305",
     "exception": false,
     "start_time": "2021-04-22T06:40:19.315745",
     "status": "completed"
    },
    "tags": []
   },
   "outputs": [],
   "source": [
    "coba = df[(df[\"status\"] == 1)]"
   ]
  },
  {
   "cell_type": "code",
   "execution_count": null,
   "id": "transparent-survey",
   "metadata": {
    "execution": {
     "iopub.execute_input": "2021-04-22T06:40:20.133596Z",
     "iopub.status.busy": "2021-04-22T06:40:20.132495Z",
     "iopub.status.idle": "2021-04-22T06:40:20.135765Z",
     "shell.execute_reply": "2021-04-22T06:40:20.135242Z"
    },
    "papermill": {
     "duration": 0.305996,
     "end_time": "2021-04-22T06:40:20.135914",
     "exception": false,
     "start_time": "2021-04-22T06:40:19.829918",
     "status": "completed"
    },
    "tags": []
   },
   "outputs": [],
   "source": [
    "features = coba[[\"has_VC\",\"has_angel\",\"has_roundA\",\"has_roundB\",\"has_roundC\",\"has_roundD\"]]"
   ]
  },
  {
   "cell_type": "code",
   "execution_count": null,
   "id": "unexpected-necessity",
   "metadata": {
    "execution": {
     "iopub.execute_input": "2021-04-22T06:40:20.675842Z",
     "iopub.status.busy": "2021-04-22T06:40:20.664051Z",
     "iopub.status.idle": "2021-04-22T06:40:20.887315Z",
     "shell.execute_reply": "2021-04-22T06:40:20.886807Z"
    },
    "papermill": {
     "duration": 0.499587,
     "end_time": "2021-04-22T06:40:20.887456",
     "exception": false,
     "start_time": "2021-04-22T06:40:20.387869",
     "status": "completed"
    },
    "tags": []
   },
   "outputs": [],
   "source": [
    "import pandas as pd\n",
    "import matplotlib.pyplot as plt\n",
    "import numpy as np\n",
    "import seaborn as sns\n",
    "\n",
    "fig, ax = plt.subplots(figsize=(12,8))\n",
    "\n",
    "a= np.random.choice([\"{}\".format(i) for i in [1,2,3,4,5,6]], size=(12,8))\n",
    "coba = pd.DataFrame(a, columns=[\"has_{}\".format(i) for i in list(\"features\")])\n",
    "\n",
    "sns.countplot(x=\"variable\", hue=\"value\",palette=\"nipy_spectral\", data=pd.melt(features))\n",
    "\n",
    "plt.show()"
   ]
  },
  {
   "cell_type": "code",
   "execution_count": null,
   "id": "interesting-burton",
   "metadata": {
    "execution": {
     "iopub.execute_input": "2021-04-22T06:40:21.941706Z",
     "iopub.status.busy": "2021-04-22T06:40:21.936965Z",
     "iopub.status.idle": "2021-04-22T06:40:22.616370Z",
     "shell.execute_reply": "2021-04-22T06:40:22.615833Z"
    },
    "papermill": {
     "duration": 0.96286,
     "end_time": "2021-04-22T06:40:22.616521",
     "exception": false,
     "start_time": "2021-04-22T06:40:21.653661",
     "status": "completed"
    },
    "tags": []
   },
   "outputs": [],
   "source": [
    "fig, ax = plt.subplots(figsize=(12,8))\n",
    "\n",
    "_ = sns.countplot(x=\"category_code\", hue=\"status\", data=df, palette=\"nipy_spectral\",\n",
    "              order=df.category_code.value_counts().index)\n",
    "\n",
    "_ = ax.set_xticklabels(ax.get_xticklabels(), rotation=90)\n",
    "_ = ax.set(xlabel=\"Category\", ylabel=\"No. of startup\")\n",
    "plt.legend(bbox_to_anchor=(0.945, 0.90))"
   ]
  },
  {
   "cell_type": "code",
   "execution_count": null,
   "id": "formal-pitch",
   "metadata": {
    "execution": {
     "iopub.execute_input": "2021-04-22T06:40:23.672241Z",
     "iopub.status.busy": "2021-04-22T06:40:23.671125Z",
     "iopub.status.idle": "2021-04-22T06:40:24.333459Z",
     "shell.execute_reply": "2021-04-22T06:40:24.332843Z"
    },
    "papermill": {
     "duration": 0.946896,
     "end_time": "2021-04-22T06:40:24.333639",
     "exception": false,
     "start_time": "2021-04-22T06:40:23.386743",
     "status": "completed"
    },
    "tags": []
   },
   "outputs": [],
   "source": [
    "fig, ax = plt.subplots(figsize=(12,8))\n",
    "\n",
    "_ = sns.countplot(x=\"state_code\", hue=\"status\", data=df, palette=\"nipy_spectral\",\n",
    "              order=df.state_code.value_counts().index)\n",
    "\n",
    "_ = ax.set_xticklabels(ax.get_xticklabels(), rotation=90)\n",
    "_ = ax.set(xlabel=\"state_code\", ylabel=\"No. of startup\")\n",
    "plt.legend(bbox_to_anchor=(0.945, 0.90))"
   ]
  },
  {
   "cell_type": "code",
   "execution_count": null,
   "id": "lined-mailman",
   "metadata": {
    "execution": {
     "iopub.execute_input": "2021-04-22T06:40:24.897987Z",
     "iopub.status.busy": "2021-04-22T06:40:24.896997Z",
     "iopub.status.idle": "2021-04-22T06:40:24.926406Z",
     "shell.execute_reply": "2021-04-22T06:40:24.927022Z"
    },
    "papermill": {
     "duration": 0.295385,
     "end_time": "2021-04-22T06:40:24.927211",
     "exception": false,
     "start_time": "2021-04-22T06:40:24.631826",
     "status": "completed"
    },
    "tags": []
   },
   "outputs": [],
   "source": [
    "trending_statea = df.groupby(['state_code']).size().rename('num_startup').reset_index()\n",
    "\n",
    "most_trending_statea = trending_statea[trending_statea.groupby('state_code')['num_startup'].transform(max) == trending_statea['num_startup']]\n",
    "most_trending_statea = most_trending_statea.sort_values('num_startup', ascending=False)\n",
    "most_trending_statea"
   ]
  },
  {
   "cell_type": "code",
   "execution_count": null,
   "id": "generous-monitor",
   "metadata": {
    "execution": {
     "iopub.execute_input": "2021-04-22T06:40:25.991200Z",
     "iopub.status.busy": "2021-04-22T06:40:25.990149Z",
     "iopub.status.idle": "2021-04-22T06:40:26.014210Z",
     "shell.execute_reply": "2021-04-22T06:40:26.013532Z"
    },
    "papermill": {
     "duration": 0.291124,
     "end_time": "2021-04-22T06:40:26.014348",
     "exception": false,
     "start_time": "2021-04-22T06:40:25.723224",
     "status": "completed"
    },
    "tags": []
   },
   "outputs": [],
   "source": [
    "trending_statea = df_acquired.groupby(['state_code','category_code']).size().rename('num_startup').reset_index()\n",
    "\n",
    "most_trending_statea = trending_statea[trending_statea.groupby('state_code')['num_startup'].transform(max) == trending_statea['num_startup']]\n",
    "most_trending_statea = most_trending_statea.sort_values('num_startup', ascending=False)\n",
    "most_trending_statea.head(10)"
   ]
  },
  {
   "cell_type": "code",
   "execution_count": null,
   "id": "provincial-february",
   "metadata": {
    "execution": {
     "iopub.execute_input": "2021-04-22T06:40:27.052146Z",
     "iopub.status.busy": "2021-04-22T06:40:27.051147Z",
     "iopub.status.idle": "2021-04-22T06:40:27.076318Z",
     "shell.execute_reply": "2021-04-22T06:40:27.076871Z"
    },
    "papermill": {
     "duration": 0.287241,
     "end_time": "2021-04-22T06:40:27.077046",
     "exception": false,
     "start_time": "2021-04-22T06:40:26.789805",
     "status": "completed"
    },
    "scrolled": true,
    "tags": []
   },
   "outputs": [],
   "source": [
    "trending_statec = df_closed.groupby(['state_code','category_code']).size().rename('num_startup').reset_index()\n",
    "\n",
    "most_trending_statec = trending_statec[trending_statec.groupby('state_code')['num_startup'].transform(max) == trending_statec['num_startup']]\n",
    "most_trending_statec = most_trending_statec.sort_values('num_startup', ascending=False)\n",
    "most_trending_statec"
   ]
  },
  {
   "cell_type": "code",
   "execution_count": null,
   "id": "juvenile-collectible",
   "metadata": {
    "execution": {
     "iopub.execute_input": "2021-04-22T06:40:28.124058Z",
     "iopub.status.busy": "2021-04-22T06:40:28.123028Z",
     "iopub.status.idle": "2021-04-22T06:40:28.170554Z",
     "shell.execute_reply": "2021-04-22T06:40:28.171045Z"
    },
    "papermill": {
     "duration": 0.311884,
     "end_time": "2021-04-22T06:40:28.171205",
     "exception": false,
     "start_time": "2021-04-22T06:40:27.859321",
     "status": "completed"
    },
    "tags": []
   },
   "outputs": [],
   "source": [
    "trending_categorya = df_acquired.groupby(['city','category_code']).size().rename('num_startup').reset_index()\n",
    "\n",
    "most_trending_categorya = trending_categorya[trending_categorya.groupby('city')['num_startup'].transform(max) == trending_categorya['num_startup']]\n",
    "most_trending_categorya = most_trending_categorya.sort_values('num_startup', ascending=False)\n",
    "most_trending_categorya"
   ]
  },
  {
   "cell_type": "code",
   "execution_count": null,
   "id": "corporate-leone",
   "metadata": {
    "execution": {
     "iopub.execute_input": "2021-04-22T06:40:29.238321Z",
     "iopub.status.busy": "2021-04-22T06:40:29.235651Z",
     "iopub.status.idle": "2021-04-22T06:40:29.279473Z",
     "shell.execute_reply": "2021-04-22T06:40:29.279965Z"
    },
    "papermill": {
     "duration": 0.314382,
     "end_time": "2021-04-22T06:40:29.280125",
     "exception": false,
     "start_time": "2021-04-22T06:40:28.965743",
     "status": "completed"
    },
    "tags": []
   },
   "outputs": [],
   "source": [
    "trending_categoryc = df_closed.groupby(['city','category_code']).size().rename('num_startup').reset_index()\n",
    "\n",
    "most_trending_categoryc = trending_categoryc[trending_categoryc.groupby('city')['num_startup'].transform(max) == trending_categoryc['num_startup']].reset_index()\n",
    "most_trending_categoryc = most_trending_categoryc.sort_values('num_startup', ascending=False)\n"
   ]
  },
  {
   "cell_type": "code",
   "execution_count": null,
   "id": "future-novel",
   "metadata": {
    "execution": {
     "iopub.execute_input": "2021-04-22T06:40:30.357977Z",
     "iopub.status.busy": "2021-04-22T06:40:30.355509Z",
     "iopub.status.idle": "2021-04-22T06:40:30.367481Z",
     "shell.execute_reply": "2021-04-22T06:40:30.368061Z"
    },
    "papermill": {
     "duration": 0.293271,
     "end_time": "2021-04-22T06:40:30.368240",
     "exception": false,
     "start_time": "2021-04-22T06:40:30.074969",
     "status": "completed"
    },
    "tags": []
   },
   "outputs": [],
   "source": [
    "funding_sorted_category = pd.pivot_table(df,\n",
    "              index=['category_code'],\n",
    "              values=['funding_total_usd'],\n",
    "              aggfunc=['sum']\n",
    "              ).reset_index()\n",
    "funding_sorted_category.columns = ['category_code', 'funding_total_usd']\n",
    "funding_sorted_category = funding_sorted_category.sort_values(['funding_total_usd'], ascending = False)\n",
    "funding_sorted_category.head(10)"
   ]
  },
  {
   "cell_type": "code",
   "execution_count": null,
   "id": "ecological-alert",
   "metadata": {
    "execution": {
     "iopub.execute_input": "2021-04-22T06:40:30.916491Z",
     "iopub.status.busy": "2021-04-22T06:40:30.915432Z",
     "iopub.status.idle": "2021-04-22T06:40:31.482006Z",
     "shell.execute_reply": "2021-04-22T06:40:31.482595Z"
    },
    "papermill": {
     "duration": 0.849722,
     "end_time": "2021-04-22T06:40:31.482774",
     "exception": false,
     "start_time": "2021-04-22T06:40:30.633052",
     "status": "completed"
    },
    "tags": []
   },
   "outputs": [],
   "source": [
    "fig, ax = plt.subplots(figsize=(15,7))\n",
    "_ = sns.barplot(x=\"category_code\", y=\"funding_total_usd\", data=funding_sorted_category,\n",
    "                palette=\"nipy_spectral\", ax=ax)\n",
    "_ = ax.set_xticklabels(ax.get_xticklabels(), rotation=90)\n",
    "_ = ax.set(xlabel=\"Category\", ylabel=\"Total Funding USD\")"
   ]
  },
  {
   "cell_type": "code",
   "execution_count": null,
   "id": "casual-shelter",
   "metadata": {
    "execution": {
     "iopub.execute_input": "2021-04-22T06:40:32.575995Z",
     "iopub.status.busy": "2021-04-22T06:40:32.568158Z",
     "iopub.status.idle": "2021-04-22T06:40:32.585800Z",
     "shell.execute_reply": "2021-04-22T06:40:32.585169Z"
    },
    "papermill": {
     "duration": 0.293852,
     "end_time": "2021-04-22T06:40:32.585940",
     "exception": false,
     "start_time": "2021-04-22T06:40:32.292088",
     "status": "completed"
    },
    "tags": []
   },
   "outputs": [],
   "source": [
    "funding_sorted_city = pd.pivot_table(df,\n",
    "              index=['city'],\n",
    "              values=['funding_total_usd'],\n",
    "              aggfunc=['sum']\n",
    "              ).reset_index()\n",
    "funding_sorted_city.columns = ['city', 'funding_total_usd']\n",
    "funding_sorted_city = funding_sorted_city.sort_values(['funding_total_usd'], ascending = False)\n",
    "funding_sorted_city = funding_sorted_city.head(10)\n",
    "funding_sorted_city"
   ]
  },
  {
   "cell_type": "code",
   "execution_count": null,
   "id": "optimum-buffalo",
   "metadata": {
    "execution": {
     "iopub.execute_input": "2021-04-22T06:40:33.921982Z",
     "iopub.status.busy": "2021-04-22T06:40:33.920559Z",
     "iopub.status.idle": "2021-04-22T06:40:33.929077Z",
     "shell.execute_reply": "2021-04-22T06:40:33.929604Z"
    },
    "papermill": {
     "duration": 0.280825,
     "end_time": "2021-04-22T06:40:33.929774",
     "exception": false,
     "start_time": "2021-04-22T06:40:33.648949",
     "status": "completed"
    },
    "tags": []
   },
   "outputs": [],
   "source": [
    "df_what_in_kirkland = df[(df[\"city\"] == 'Kirkland')]\n",
    "df_what_in_kirkland.shape"
   ]
  },
  {
   "cell_type": "code",
   "execution_count": null,
   "id": "ambient-timothy",
   "metadata": {
    "execution": {
     "iopub.execute_input": "2021-04-22T06:40:37.427980Z",
     "iopub.status.busy": "2021-04-22T06:40:37.427299Z",
     "iopub.status.idle": "2021-04-22T06:40:37.585028Z",
     "shell.execute_reply": "2021-04-22T06:40:37.585572Z"
    },
    "papermill": {
     "duration": 0.43086,
     "end_time": "2021-04-22T06:40:37.585742",
     "exception": false,
     "start_time": "2021-04-22T06:40:37.154882",
     "status": "completed"
    },
    "tags": []
   },
   "outputs": [],
   "source": [
    "fig, ax = plt.subplots(figsize=(10,5))\n",
    "\n",
    "_ = sns.countplot(x=\"is_top500\", hue=\"status\", data=df, palette=\"nipy_spectral\",\n",
    "              order=df.is_top500.value_counts().index)\n",
    "\n",
    "_ = ax.set_xticklabels(ax.get_xticklabels(), rotation=90)\n",
    "_ = ax.set(xlabel=\"is_top500\", ylabel=\"No. of startup\")\n",
    "plt.legend(bbox_to_anchor=(0.945, 0.90))"
   ]
  },
  {
   "cell_type": "code",
   "execution_count": null,
   "id": "nearby-forest",
   "metadata": {
    "execution": {
     "iopub.execute_input": "2021-04-22T06:40:38.139475Z",
     "iopub.status.busy": "2021-04-22T06:40:38.138842Z",
     "iopub.status.idle": "2021-04-22T06:40:38.145857Z",
     "shell.execute_reply": "2021-04-22T06:40:38.146352Z"
    },
    "papermill": {
     "duration": 0.283334,
     "end_time": "2021-04-22T06:40:38.146519",
     "exception": false,
     "start_time": "2021-04-22T06:40:37.863185",
     "status": "completed"
    },
    "tags": []
   },
   "outputs": [],
   "source": [
    "#How many Startup have both 'acquired' status and is_top500?\n",
    "len(df[(df[\"status\"] == True) & (df[\"is_top500\"] == True)].index)"
   ]
  },
  {
   "cell_type": "code",
   "execution_count": null,
   "id": "comprehensive-opera",
   "metadata": {
    "execution": {
     "iopub.execute_input": "2021-04-22T06:40:38.708968Z",
     "iopub.status.busy": "2021-04-22T06:40:38.708171Z",
     "iopub.status.idle": "2021-04-22T06:40:38.711747Z",
     "shell.execute_reply": "2021-04-22T06:40:38.711090Z"
    },
    "papermill": {
     "duration": 0.290741,
     "end_time": "2021-04-22T06:40:38.711888",
     "exception": false,
     "start_time": "2021-04-22T06:40:38.421147",
     "status": "completed"
    },
    "tags": []
   },
   "outputs": [],
   "source": [
    "#How many Startup have both 'closed' status and is_top500?\n",
    "len(df[(df[\"status\"] == False) & (df[\"is_top500\"] == False)].index)"
   ]
  },
  {
   "cell_type": "code",
   "execution_count": null,
   "id": "described-camel",
   "metadata": {
    "execution": {
     "iopub.execute_input": "2021-04-22T06:40:39.276480Z",
     "iopub.status.busy": "2021-04-22T06:40:39.275417Z",
     "iopub.status.idle": "2021-04-22T06:40:39.280648Z",
     "shell.execute_reply": "2021-04-22T06:40:39.279956Z"
    },
    "papermill": {
     "duration": 0.291646,
     "end_time": "2021-04-22T06:40:39.280802",
     "exception": false,
     "start_time": "2021-04-22T06:40:38.989156",
     "status": "completed"
    },
    "scrolled": true,
    "tags": []
   },
   "outputs": [],
   "source": [
    "df_acquired[\"is_top500\"].value_counts(normalize=True)"
   ]
  },
  {
   "cell_type": "code",
   "execution_count": null,
   "id": "colonial-headset",
   "metadata": {
    "execution": {
     "iopub.execute_input": "2021-04-22T06:40:40.421260Z",
     "iopub.status.busy": "2021-04-22T06:40:40.405696Z",
     "iopub.status.idle": "2021-04-22T06:40:40.435019Z",
     "shell.execute_reply": "2021-04-22T06:40:40.434313Z"
    },
    "papermill": {
     "duration": 0.331153,
     "end_time": "2021-04-22T06:40:40.435161",
     "exception": false,
     "start_time": "2021-04-22T06:40:40.104008",
     "status": "completed"
    },
    "tags": []
   },
   "outputs": [],
   "source": [
    "df_closed.founded_at=pd.to_datetime(df_closed.founded_at)\n",
    "df_closed.closed_at=pd.to_datetime(df_closed.closed_at)"
   ]
  },
  {
   "cell_type": "code",
   "execution_count": null,
   "id": "small-diamond",
   "metadata": {
    "execution": {
     "iopub.execute_input": "2021-04-22T06:40:40.986934Z",
     "iopub.status.busy": "2021-04-22T06:40:40.986022Z",
     "iopub.status.idle": "2021-04-22T06:40:41.013038Z",
     "shell.execute_reply": "2021-04-22T06:40:41.013573Z"
    },
    "papermill": {
     "duration": 0.304065,
     "end_time": "2021-04-22T06:40:41.013748",
     "exception": false,
     "start_time": "2021-04-22T06:40:40.709683",
     "status": "completed"
    },
    "tags": []
   },
   "outputs": [],
   "source": [
    "df_closed['age_closed_startup'] = df_closed.apply(lambda row: (row.closed_at - row.founded_at) , axis=1)"
   ]
  },
  {
   "cell_type": "code",
   "execution_count": null,
   "id": "changed-bathroom",
   "metadata": {
    "execution": {
     "iopub.execute_input": "2021-04-22T06:40:41.572309Z",
     "iopub.status.busy": "2021-04-22T06:40:41.571668Z",
     "iopub.status.idle": "2021-04-22T06:40:41.574606Z",
     "shell.execute_reply": "2021-04-22T06:40:41.575168Z"
    },
    "papermill": {
     "duration": 0.28307,
     "end_time": "2021-04-22T06:40:41.575344",
     "exception": false,
     "start_time": "2021-04-22T06:40:41.292274",
     "status": "completed"
    },
    "tags": []
   },
   "outputs": [],
   "source": [
    "#df_closed['age_closed_startup'] = pd.to_numeric(df['age_closed_startup'].dt.days, downcast='int64')"
   ]
  },
  {
   "cell_type": "code",
   "execution_count": null,
   "id": "coastal-presence",
   "metadata": {
    "execution": {
     "iopub.execute_input": "2021-04-22T06:40:42.133360Z",
     "iopub.status.busy": "2021-04-22T06:40:42.132658Z",
     "iopub.status.idle": "2021-04-22T06:40:42.139557Z",
     "shell.execute_reply": "2021-04-22T06:40:42.140027Z"
    },
    "papermill": {
     "duration": 0.288514,
     "end_time": "2021-04-22T06:40:42.140227",
     "exception": false,
     "start_time": "2021-04-22T06:40:41.851713",
     "status": "completed"
    },
    "tags": []
   },
   "outputs": [],
   "source": [
    "df_closed['age_closed_startup'].head()"
   ]
  },
  {
   "cell_type": "code",
   "execution_count": null,
   "id": "improving-whole",
   "metadata": {
    "execution": {
     "iopub.execute_input": "2021-04-22T06:40:42.699189Z",
     "iopub.status.busy": "2021-04-22T06:40:42.698419Z",
     "iopub.status.idle": "2021-04-22T06:40:42.701652Z",
     "shell.execute_reply": "2021-04-22T06:40:42.700979Z"
    },
    "papermill": {
     "duration": 0.285396,
     "end_time": "2021-04-22T06:40:42.701806",
     "exception": false,
     "start_time": "2021-04-22T06:40:42.416410",
     "status": "completed"
    },
    "tags": []
   },
   "outputs": [],
   "source": [
    "df_closed['year'] = df_closed['age_closed_startup'].dt.days /365"
   ]
  },
  {
   "cell_type": "code",
   "execution_count": null,
   "id": "marked-growth",
   "metadata": {
    "execution": {
     "iopub.execute_input": "2021-04-22T06:40:43.860977Z",
     "iopub.status.busy": "2021-04-22T06:40:43.860311Z",
     "iopub.status.idle": "2021-04-22T06:40:43.864530Z",
     "shell.execute_reply": "2021-04-22T06:40:43.864000Z"
    },
    "papermill": {
     "duration": 0.288354,
     "end_time": "2021-04-22T06:40:43.864688",
     "exception": false,
     "start_time": "2021-04-22T06:40:43.576334",
     "status": "completed"
    },
    "scrolled": true,
    "tags": []
   },
   "outputs": [],
   "source": [
    "(df_closed['age_closed_startup'].mean()) "
   ]
  },
  {
   "cell_type": "code",
   "execution_count": null,
   "id": "automatic-network",
   "metadata": {
    "execution": {
     "iopub.execute_input": "2021-04-22T06:40:44.425753Z",
     "iopub.status.busy": "2021-04-22T06:40:44.425054Z",
     "iopub.status.idle": "2021-04-22T06:40:44.428329Z",
     "shell.execute_reply": "2021-04-22T06:40:44.428787Z"
    },
    "papermill": {
     "duration": 0.284968,
     "end_time": "2021-04-22T06:40:44.428957",
     "exception": false,
     "start_time": "2021-04-22T06:40:44.143989",
     "status": "completed"
    },
    "tags": []
   },
   "outputs": [],
   "source": [
    "ratarata = round(2184 / 365) \n",
    "print(\"Rata-Rata Startup Closed :\", ratarata ,\"tahun\")"
   ]
  },
  {
   "cell_type": "code",
   "execution_count": null,
   "id": "accessory-bible",
   "metadata": {
    "execution": {
     "iopub.execute_input": "2021-04-22T06:40:45.573349Z",
     "iopub.status.busy": "2021-04-22T06:40:45.572139Z",
     "iopub.status.idle": "2021-04-22T06:40:46.385788Z",
     "shell.execute_reply": "2021-04-22T06:40:46.386256Z"
    },
    "papermill": {
     "duration": 1.122554,
     "end_time": "2021-04-22T06:40:46.386431",
     "exception": false,
     "start_time": "2021-04-22T06:40:45.263877",
     "status": "completed"
    },
    "tags": []
   },
   "outputs": [],
   "source": [
    "fig, ax = plt.subplots(figsize=(17,10))\n",
    "\n",
    "sns.countplot(x=\"relationships\", hue=\"status\", data=df, palette=\"nipy_spectral\",\n",
    "              order=df.relationships.value_counts().index)\n",
    "plt.legend(bbox_to_anchor=(0.945, 0.90))"
   ]
  },
  {
   "cell_type": "code",
   "execution_count": null,
   "id": "welcome-thesaurus",
   "metadata": {
    "execution": {
     "iopub.execute_input": "2021-04-22T06:40:47.529093Z",
     "iopub.status.busy": "2021-04-22T06:40:47.527960Z",
     "iopub.status.idle": "2021-04-22T06:40:47.820139Z",
     "shell.execute_reply": "2021-04-22T06:40:47.819512Z"
    },
    "papermill": {
     "duration": 0.600134,
     "end_time": "2021-04-22T06:40:47.820294",
     "exception": false,
     "start_time": "2021-04-22T06:40:47.220160",
     "status": "completed"
    },
    "tags": []
   },
   "outputs": [],
   "source": [
    "fig, ax = plt.subplots(figsize=(12,8))\n",
    "\n",
    "sns.countplot(x=\"funding_rounds\", hue=\"status\", data=df, palette=\"nipy_spectral\",\n",
    "              order=df.funding_rounds.value_counts().index)\n",
    "# plt.legend(bbox_to_anchor=(0.945, 0.90))"
   ]
  },
  {
   "cell_type": "code",
   "execution_count": null,
   "id": "caring-hollow",
   "metadata": {
    "execution": {
     "iopub.execute_input": "2021-04-22T06:40:48.954772Z",
     "iopub.status.busy": "2021-04-22T06:40:48.954083Z",
     "iopub.status.idle": "2021-04-22T06:40:48.957178Z",
     "shell.execute_reply": "2021-04-22T06:40:48.956617Z"
    },
    "papermill": {
     "duration": 0.290752,
     "end_time": "2021-04-22T06:40:48.957328",
     "exception": false,
     "start_time": "2021-04-22T06:40:48.666576",
     "status": "completed"
    },
    "tags": []
   },
   "outputs": [],
   "source": [
    "import pandas as pd\n",
    "import geopandas as gpd\n",
    "import matplotlib.pyplot as plt\n",
    "import pyshp as shp"
   ]
  },
  {
   "cell_type": "code",
   "execution_count": null,
   "id": "alternative-story",
   "metadata": {
    "execution": {
     "iopub.execute_input": "2021-04-22T06:40:49.526484Z",
     "iopub.status.busy": "2021-04-22T06:40:49.525450Z",
     "iopub.status.idle": "2021-04-22T06:40:49.529003Z",
     "shell.execute_reply": "2021-04-22T06:40:49.528426Z"
    },
    "papermill": {
     "duration": 0.288808,
     "end_time": "2021-04-22T06:40:49.529180",
     "exception": false,
     "start_time": "2021-04-22T06:40:49.240372",
     "status": "completed"
    },
    "tags": []
   },
   "outputs": [],
   "source": [
    "import sys"
   ]
  },
  {
   "cell_type": "code",
   "execution_count": null,
   "id": "provincial-norwegian",
   "metadata": {
    "execution": {
     "iopub.execute_input": "2021-04-22T06:40:50.101677Z",
     "iopub.status.busy": "2021-04-22T06:40:50.100753Z",
     "iopub.status.idle": "2021-04-22T06:40:50.104923Z",
     "shell.execute_reply": "2021-04-22T06:40:50.104402Z"
    },
    "papermill": {
     "duration": 0.293605,
     "end_time": "2021-04-22T06:40:50.105066",
     "exception": false,
     "start_time": "2021-04-22T06:40:49.811461",
     "status": "completed"
    },
    "tags": []
   },
   "outputs": [],
   "source": [
    "'geopandas' in sys.modules"
   ]
  },
  {
   "cell_type": "code",
   "execution_count": null,
   "id": "everyday-better",
   "metadata": {
    "execution": {
     "iopub.execute_input": "2021-04-22T06:40:50.685009Z",
     "iopub.status.busy": "2021-04-22T06:40:50.684288Z",
     "iopub.status.idle": "2021-04-22T06:40:50.700790Z",
     "shell.execute_reply": "2021-04-22T06:40:50.700187Z"
    },
    "papermill": {
     "duration": 0.312785,
     "end_time": "2021-04-22T06:40:50.700941",
     "exception": false,
     "start_time": "2021-04-22T06:40:50.388156",
     "status": "completed"
    },
    "scrolled": true,
    "tags": []
   },
   "outputs": [],
   "source": [
    "gdf = gpd.GeoDataFrame(df, geometry=gpd.points_from_xy(df.longitude, df.latitude))"
   ]
  },
  {
   "cell_type": "code",
   "execution_count": null,
   "id": "micro-danger",
   "metadata": {
    "execution": {
     "iopub.execute_input": "2021-04-22T06:40:51.289459Z",
     "iopub.status.busy": "2021-04-22T06:40:51.288811Z",
     "iopub.status.idle": "2021-04-22T06:40:51.296583Z",
     "shell.execute_reply": "2021-04-22T06:40:51.295790Z"
    },
    "papermill": {
     "duration": 0.314803,
     "end_time": "2021-04-22T06:40:51.296774",
     "exception": false,
     "start_time": "2021-04-22T06:40:50.981971",
     "status": "completed"
    },
    "tags": []
   },
   "outputs": [],
   "source": [
    "print(gdf.head())"
   ]
  },
  {
   "cell_type": "code",
   "execution_count": null,
   "id": "requested-october",
   "metadata": {
    "execution": {
     "iopub.execute_input": "2021-04-22T06:40:53.009215Z",
     "iopub.status.busy": "2021-04-22T06:40:53.008165Z",
     "iopub.status.idle": "2021-04-22T06:40:53.053988Z",
     "shell.execute_reply": "2021-04-22T06:40:53.053300Z"
    },
    "papermill": {
     "duration": 0.336853,
     "end_time": "2021-04-22T06:40:53.054142",
     "exception": false,
     "start_time": "2021-04-22T06:40:52.717289",
     "status": "completed"
    },
    "tags": []
   },
   "outputs": [],
   "source": [
    "duplicate = df[df.duplicated()] \n",
    "  \n",
    "print(\"Duplicate Rows :\")"
   ]
  },
  {
   "cell_type": "code",
   "execution_count": null,
   "id": "fitting-parameter",
   "metadata": {
    "execution": {
     "iopub.execute_input": "2021-04-22T06:40:54.242899Z",
     "iopub.status.busy": "2021-04-22T06:40:54.241828Z",
     "iopub.status.idle": "2021-04-22T06:40:54.245180Z",
     "shell.execute_reply": "2021-04-22T06:40:54.245761Z"
    },
    "papermill": {
     "duration": 0.294328,
     "end_time": "2021-04-22T06:40:54.245953",
     "exception": false,
     "start_time": "2021-04-22T06:40:53.951625",
     "status": "completed"
    },
    "tags": []
   },
   "outputs": [],
   "source": [
    "#ganti data type ke numerical untuk boxplot\n",
    "df['age_first_milestone_year'] = df.age_first_milestone_year.astype(float)\n",
    "df['age_last_milestone_year'] = df.age_last_milestone_year.astype(float)"
   ]
  },
  {
   "cell_type": "code",
   "execution_count": null,
   "id": "nutritional-consideration",
   "metadata": {
    "execution": {
     "iopub.execute_input": "2021-04-22T06:40:54.869365Z",
     "iopub.status.busy": "2021-04-22T06:40:54.857096Z",
     "iopub.status.idle": "2021-04-22T06:40:55.987453Z",
     "shell.execute_reply": "2021-04-22T06:40:55.986793Z"
    },
    "papermill": {
     "duration": 1.445572,
     "end_time": "2021-04-22T06:40:55.987612",
     "exception": false,
     "start_time": "2021-04-22T06:40:54.542040",
     "status": "completed"
    },
    "tags": []
   },
   "outputs": [],
   "source": [
    "featuresNumfinal = ['age_first_funding_year','age_last_funding_year','age_first_milestone_year','age_last_milestone_year','funding_total_usd','avg_participants']\n",
    "\n",
    "plt.figure(figsize=(15, 7))\n",
    "for i in range(0, len(featuresNumfinal)):\n",
    "    plt.subplot(1, len(featuresNumfinal), i+1)\n",
    "    sns.boxplot(y=df[featuresNumfinal[i]], color='green', orient='v')\n",
    "    plt.tight_layout()"
   ]
  },
  {
   "cell_type": "code",
   "execution_count": null,
   "id": "committed-settle",
   "metadata": {
    "execution": {
     "iopub.execute_input": "2021-04-22T06:40:56.576324Z",
     "iopub.status.busy": "2021-04-22T06:40:56.575597Z",
     "iopub.status.idle": "2021-04-22T06:40:56.579184Z",
     "shell.execute_reply": "2021-04-22T06:40:56.578593Z"
    },
    "papermill": {
     "duration": 0.295938,
     "end_time": "2021-04-22T06:40:56.579340",
     "exception": false,
     "start_time": "2021-04-22T06:40:56.283402",
     "status": "completed"
    },
    "tags": []
   },
   "outputs": [],
   "source": [
    "def drop_outliers(df, field_name):\n",
    "    iqr = 1.5 * (np.percentile(df[field_name], 75) - np.percentile(df[field_name], 25))\n",
    "    df.drop(df[df[field_name] > (iqr + np.percentile(df[field_name], 75))].index, inplace=True)\n",
    "    df.drop(df[df[field_name] < (np.percentile(df[field_name], 25) - iqr)].index, inplace=True)"
   ]
  },
  {
   "cell_type": "code",
   "execution_count": null,
   "id": "demanding-marker",
   "metadata": {
    "execution": {
     "iopub.execute_input": "2021-04-22T06:40:57.159593Z",
     "iopub.status.busy": "2021-04-22T06:40:57.158445Z",
     "iopub.status.idle": "2021-04-22T06:40:57.161325Z",
     "shell.execute_reply": "2021-04-22T06:40:57.161965Z"
    },
    "papermill": {
     "duration": 0.300237,
     "end_time": "2021-04-22T06:40:57.162146",
     "exception": false,
     "start_time": "2021-04-22T06:40:56.861909",
     "status": "completed"
    },
    "tags": []
   },
   "outputs": [],
   "source": [
    "# drop_outliers(df, 'age_first_funding_year')\n",
    "# drop_outliers(df, 'age_last_funding_year')\n",
    "# drop_outliers(df, 'age_first_milestone_year')\n",
    "# drop_outliers(df, 'age_last_milestone_year')\n",
    "drop_outliers(df, 'funding_total_usd')"
   ]
  },
  {
   "cell_type": "code",
   "execution_count": null,
   "id": "broad-bargain",
   "metadata": {
    "execution": {
     "iopub.execute_input": "2021-04-22T06:40:57.777657Z",
     "iopub.status.busy": "2021-04-22T06:40:57.776634Z",
     "iopub.status.idle": "2021-04-22T06:40:57.779644Z",
     "shell.execute_reply": "2021-04-22T06:40:57.779079Z"
    },
    "papermill": {
     "duration": 0.302526,
     "end_time": "2021-04-22T06:40:57.779787",
     "exception": false,
     "start_time": "2021-04-22T06:40:57.477261",
     "status": "completed"
    },
    "tags": []
   },
   "outputs": [],
   "source": [
    "# featuresNumfinal = ['age_first_funding_year','age_last_funding_year','age_first_milestone_year','age_last_milestone_year','funding_total_usd']\n",
    "\n",
    "# plt.figure(figsize=(15, 7))\n",
    "# for i in range(0, len(featuresNumfinal)):\n",
    "#     plt.subplot(1, len(featuresNumfinal), i+1)\n",
    "#     sns.boxplot(y=df[featuresNumfinal[i]], color='green', orient='v')\n",
    "#     plt.tight_layout()"
   ]
  },
  {
   "cell_type": "code",
   "execution_count": null,
   "id": "reserved-logging",
   "metadata": {
    "execution": {
     "iopub.execute_input": "2021-04-22T06:40:58.980706Z",
     "iopub.status.busy": "2021-04-22T06:40:58.979715Z",
     "iopub.status.idle": "2021-04-22T06:40:58.989957Z",
     "shell.execute_reply": "2021-04-22T06:40:58.989296Z"
    },
    "papermill": {
     "duration": 0.324222,
     "end_time": "2021-04-22T06:40:58.990098",
     "exception": false,
     "start_time": "2021-04-22T06:40:58.665876",
     "status": "completed"
    },
    "tags": []
   },
   "outputs": [],
   "source": [
    "age=[\"age_first_funding_year\",\"age_last_funding_year\",\"age_first_milestone_year\",\"age_last_milestone_year\"]\n",
    "\n",
    "for a in range(len(age)):\n",
    "    print(\"Is there any negative value in '{}' column  : {} \".format(age[a],(df[age[a]]<0).any()))"
   ]
  },
  {
   "cell_type": "code",
   "execution_count": null,
   "id": "alternate-hours",
   "metadata": {
    "execution": {
     "iopub.execute_input": "2021-04-22T06:40:59.565685Z",
     "iopub.status.busy": "2021-04-22T06:40:59.564722Z",
     "iopub.status.idle": "2021-04-22T06:40:59.578524Z",
     "shell.execute_reply": "2021-04-22T06:40:59.579071Z"
    },
    "papermill": {
     "duration": 0.304836,
     "end_time": "2021-04-22T06:40:59.579240",
     "exception": false,
     "start_time": "2021-04-22T06:40:59.274404",
     "status": "completed"
    },
    "tags": []
   },
   "outputs": [],
   "source": [
    "df=df.drop(df[df.age_first_funding_year<0].index)\n",
    "df=df.drop(df[df.age_last_funding_year<0].index)\n",
    "df=df.drop(df[df.age_first_milestone_year<0].index)\n",
    "df=df.drop(df[df.age_last_milestone_year<0].index)"
   ]
  },
  {
   "cell_type": "code",
   "execution_count": null,
   "id": "collaborative-formation",
   "metadata": {
    "execution": {
     "iopub.execute_input": "2021-04-22T06:41:00.159166Z",
     "iopub.status.busy": "2021-04-22T06:41:00.158168Z",
     "iopub.status.idle": "2021-04-22T06:41:00.161846Z",
     "shell.execute_reply": "2021-04-22T06:41:00.162384Z"
    },
    "papermill": {
     "duration": 0.297042,
     "end_time": "2021-04-22T06:41:00.162571",
     "exception": false,
     "start_time": "2021-04-22T06:40:59.865529",
     "status": "completed"
    },
    "tags": []
   },
   "outputs": [],
   "source": [
    "# # Get the absolute value of columns including negative value\n",
    "# df[\"age_first_funding_year\"]=np.abs(df[\"age_first_funding_year\"])\n",
    "# df[\"age_last_funding_year\"]=np.abs(df[\"age_last_funding_year\"])\n",
    "# df[\"age_first_milestone_year\"]=np.abs(df[\"age_first_milestone_year\"])\n",
    "# df[\"age_last_milestone_year\"]=np.abs(df[\"age_last_milestone_year\"])"
   ]
  },
  {
   "cell_type": "code",
   "execution_count": null,
   "id": "known-cardiff",
   "metadata": {
    "execution": {
     "iopub.execute_input": "2021-04-22T06:41:00.736841Z",
     "iopub.status.busy": "2021-04-22T06:41:00.735864Z",
     "iopub.status.idle": "2021-04-22T06:41:00.745430Z",
     "shell.execute_reply": "2021-04-22T06:41:00.745941Z"
    },
    "papermill": {
     "duration": 0.296746,
     "end_time": "2021-04-22T06:41:00.746174",
     "exception": false,
     "start_time": "2021-04-22T06:41:00.449428",
     "status": "completed"
    },
    "tags": []
   },
   "outputs": [],
   "source": [
    "for a in range(len(age)):\n",
    "    print(\"Is there any negative value in '{}' column  : {} \".format(age[a],(df[age[a]]<0).any()))"
   ]
  },
  {
   "cell_type": "code",
   "execution_count": null,
   "id": "spare-watch",
   "metadata": {
    "execution": {
     "iopub.execute_input": "2021-04-22T06:41:01.902990Z",
     "iopub.status.busy": "2021-04-22T06:41:01.901497Z",
     "iopub.status.idle": "2021-04-22T06:41:01.905052Z",
     "shell.execute_reply": "2021-04-22T06:41:01.905519Z"
    },
    "papermill": {
     "duration": 0.294593,
     "end_time": "2021-04-22T06:41:01.905770",
     "exception": false,
     "start_time": "2021-04-22T06:41:01.611177",
     "status": "completed"
    },
    "tags": []
   },
   "outputs": [],
   "source": [
    "# df[\"age_first_funding_year\"] = np.log(df[\"age_first_funding_year\"])\n",
    "# df[\"age_last_funding_year\"] = np.log(df[\"age_last_funding_year\"])\n",
    "# df[\"age_first_milestone_year\"] = np.log(df[\"age_first_milestone_year\"])\n",
    "# df[\"age_last_milestone_year\"] = np.log(df[\"age_last_milestone_year\"])\n",
    "# df[\"funding_total_usd\"] = np.log(df[\"funding_total_usd\"])"
   ]
  },
  {
   "cell_type": "code",
   "execution_count": null,
   "id": "super-jones",
   "metadata": {
    "execution": {
     "iopub.execute_input": "2021-04-22T06:41:02.489214Z",
     "iopub.status.busy": "2021-04-22T06:41:02.488414Z",
     "iopub.status.idle": "2021-04-22T06:41:02.490478Z",
     "shell.execute_reply": "2021-04-22T06:41:02.491115Z"
    },
    "papermill": {
     "duration": 0.296852,
     "end_time": "2021-04-22T06:41:02.491305",
     "exception": false,
     "start_time": "2021-04-22T06:41:02.194453",
     "status": "completed"
    },
    "scrolled": true,
    "tags": []
   },
   "outputs": [],
   "source": [
    "# plt.figure(figsize=(15,7),dpi=100)\n",
    "\n",
    "# df[\"age_first_funding_year\"]=np.log(df[\"age_first_funding_year\"]+1)\n",
    "# plt.subplot(2,4,1)\n",
    "# plt.xlabel(\"age_first_funding_year\")\n",
    "# plt.boxplot(df[\"age_first_funding_year\"])   \n",
    "\n",
    "# plt.subplot(2,4,5)\n",
    "# sns.distplot(df[\"age_first_funding_year\"] , color=\"green\");\n",
    "\n",
    "\n",
    "# df[\"age_last_funding_year\"]=np.log(df[\"age_last_funding_year\"]+1)\n",
    "# plt.subplot(2,4,2)\n",
    "# plt.xlabel(\"age_last_funding_year\")\n",
    "# plt.boxplot(df[\"age_last_funding_year\"])   \n",
    "\n",
    "# plt.subplot(2,4,6)\n",
    "# sns.distplot(df[\"age_last_funding_year\"], color=\"green\")\n",
    "\n",
    "\n",
    "# df[\"age_first_milestone_year\"]=np.log(df[\"age_first_milestone_year\"]+1)\n",
    "# plt.subplot(2,4,3)\n",
    "# plt.xlabel(\"age_first_milestone_year\")\n",
    "# plt.boxplot(df[\"age_first_milestone_year\"])   \n",
    "\n",
    "# plt.subplot(2,4,7)\n",
    "# sns.distplot(df[\"age_first_milestone_year\"], color=\"green\")\n",
    "\n",
    "\n",
    "# df[\"age_last_milestone_year\"]=np.log(df[\"age_last_milestone_year\"]+1)\n",
    "# plt.subplot(2,4,4)\n",
    "# plt.xlabel(\"age_last_milestone_year\")\n",
    "# plt.boxplot(df[\"age_last_milestone_year\"])   \n",
    "\n",
    "# plt.subplot(2,4,8)\n",
    "# sns.distplot(df[\"age_last_milestone_year\"], color=\"green\");\n"
   ]
  },
  {
   "cell_type": "code",
   "execution_count": null,
   "id": "disturbed-mineral",
   "metadata": {
    "execution": {
     "iopub.execute_input": "2021-04-22T06:41:03.654399Z",
     "iopub.status.busy": "2021-04-22T06:41:03.653658Z",
     "iopub.status.idle": "2021-04-22T06:41:03.657309Z",
     "shell.execute_reply": "2021-04-22T06:41:03.657842Z"
    },
    "papermill": {
     "duration": 0.296664,
     "end_time": "2021-04-22T06:41:03.658029",
     "exception": false,
     "start_time": "2021-04-22T06:41:03.361365",
     "status": "completed"
    },
    "tags": []
   },
   "outputs": [],
   "source": [
    "# print(f\"Skewness Co-efficient: {round(df.funding_total_usd.skew(), 3)}\")\n",
    "# fig, (ax1, ax2) = plt.subplots(1, 2, figsize=(15, 5), dpi=300)\n",
    "\n",
    "# ## Histogram \n",
    "# sns.distplot(df['funding_total_usd'] , fit=stats.norm, ax=ax1)\n",
    "# ax1.set_title('Histogram')\n",
    "\n",
    "# ## Probability / QQPLOT\n",
    "# stats.probplot(df['funding_total_usd'], plot=ax2)\n",
    "\n",
    "# plt.show()"
   ]
  },
  {
   "cell_type": "code",
   "execution_count": null,
   "id": "middle-turning",
   "metadata": {
    "execution": {
     "iopub.execute_input": "2021-04-22T06:41:04.248631Z",
     "iopub.status.busy": "2021-04-22T06:41:04.247853Z",
     "iopub.status.idle": "2021-04-22T06:41:04.251898Z",
     "shell.execute_reply": "2021-04-22T06:41:04.252462Z"
    },
    "papermill": {
     "duration": 0.30029,
     "end_time": "2021-04-22T06:41:04.252719",
     "exception": false,
     "start_time": "2021-04-22T06:41:03.952429",
     "status": "completed"
    },
    "tags": []
   },
   "outputs": [],
   "source": [
    "# df[\"funding_total_usd\"] = np.log1p(df[\"funding_total_usd\"])\n",
    "\n",
    "# ##### GET SKEWNESS #####\n",
    "# print(f\"Skewness Co-efficient: {round(df.funding_total_usd.skew(), 3)}\")\n",
    "\n",
    "# fig, (ax1, ax2) = plt.subplots(1, 2, figsize=(15, 5), dpi=300)\n",
    "\n",
    "# ##### HISTOGRAM #####\n",
    "# from scipy import stats\n",
    "# sns.distplot(df['funding_total_usd'] , fit=stats.norm, ax=ax1)\n",
    "# ax1.set_title('Histogram')\n",
    "\n",
    "# ##### PROBABILITY / QQ PLOT #####\n",
    "# stats.probplot(df['funding_total_usd'], plot=ax2)\n",
    "\n",
    "# plt.show()"
   ]
  },
  {
   "cell_type": "code",
   "execution_count": null,
   "id": "vietnamese-graph",
   "metadata": {
    "execution": {
     "iopub.execute_input": "2021-04-22T06:41:07.730708Z",
     "iopub.status.busy": "2021-04-22T06:41:07.729983Z",
     "iopub.status.idle": "2021-04-22T06:41:07.774833Z",
     "shell.execute_reply": "2021-04-22T06:41:07.774236Z"
    },
    "papermill": {
     "duration": 0.335179,
     "end_time": "2021-04-22T06:41:07.774973",
     "exception": false,
     "start_time": "2021-04-22T06:41:07.439794",
     "status": "completed"
    },
    "scrolled": true,
    "tags": []
   },
   "outputs": [],
   "source": [
    "df['has_RoundABCD'] = np.where((df['has_roundA'] == 1) | (df['has_roundB'] == 1) | (df['has_roundC'] == 1) | (df['has_roundD'] == 1), 1, 0)\n",
    "df.head()"
   ]
  },
  {
   "cell_type": "code",
   "execution_count": null,
   "id": "turned-lotus",
   "metadata": {
    "execution": {
     "iopub.execute_input": "2021-04-22T06:41:08.954953Z",
     "iopub.status.busy": "2021-04-22T06:41:08.954140Z",
     "iopub.status.idle": "2021-04-22T06:41:08.980771Z",
     "shell.execute_reply": "2021-04-22T06:41:08.981488Z"
    },
    "papermill": {
     "duration": 0.340396,
     "end_time": "2021-04-22T06:41:08.981758",
     "exception": false,
     "start_time": "2021-04-22T06:41:08.641362",
     "status": "completed"
    },
    "tags": []
   },
   "outputs": [],
   "source": [
    "df['has_Investor'] = np.where((df['has_VC'] == 1) | (df['has_angel'] == 1), 1, 0)\n",
    "df.head()"
   ]
  },
  {
   "cell_type": "code",
   "execution_count": null,
   "id": "brave-bahrain",
   "metadata": {
    "execution": {
     "iopub.execute_input": "2021-04-22T06:41:09.573152Z",
     "iopub.status.busy": "2021-04-22T06:41:09.572453Z",
     "iopub.status.idle": "2021-04-22T06:41:09.578315Z",
     "shell.execute_reply": "2021-04-22T06:41:09.578779Z"
    },
    "papermill": {
     "duration": 0.303244,
     "end_time": "2021-04-22T06:41:09.578948",
     "exception": false,
     "start_time": "2021-04-22T06:41:09.275704",
     "status": "completed"
    },
    "scrolled": true,
    "tags": []
   },
   "outputs": [],
   "source": [
    "len(df[(df[\"has_RoundABCD\"] == 1)].index)"
   ]
  },
  {
   "cell_type": "code",
   "execution_count": null,
   "id": "clear-beverage",
   "metadata": {
    "execution": {
     "iopub.execute_input": "2021-04-22T06:41:10.195159Z",
     "iopub.status.busy": "2021-04-22T06:41:10.194410Z",
     "iopub.status.idle": "2021-04-22T06:41:10.198497Z",
     "shell.execute_reply": "2021-04-22T06:41:10.197894Z"
    },
    "papermill": {
     "duration": 0.303046,
     "end_time": "2021-04-22T06:41:10.198752",
     "exception": false,
     "start_time": "2021-04-22T06:41:09.895706",
     "status": "completed"
    },
    "tags": []
   },
   "outputs": [],
   "source": [
    "len(df[ (df['has_RoundABCD']  == 1) & (df['status']  == 1) ].index)"
   ]
  },
  {
   "cell_type": "code",
   "execution_count": null,
   "id": "ruled-bunny",
   "metadata": {
    "execution": {
     "iopub.execute_input": "2021-04-22T06:41:10.791798Z",
     "iopub.status.busy": "2021-04-22T06:41:10.791019Z",
     "iopub.status.idle": "2021-04-22T06:41:10.794870Z",
     "shell.execute_reply": "2021-04-22T06:41:10.794226Z"
    },
    "papermill": {
     "duration": 0.301014,
     "end_time": "2021-04-22T06:41:10.795012",
     "exception": false,
     "start_time": "2021-04-22T06:41:10.493998",
     "status": "completed"
    },
    "tags": []
   },
   "outputs": [],
   "source": [
    "len(df)"
   ]
  },
  {
   "cell_type": "code",
   "execution_count": null,
   "id": "martial-sunglasses",
   "metadata": {
    "execution": {
     "iopub.execute_input": "2021-04-22T06:41:11.383510Z",
     "iopub.status.busy": "2021-04-22T06:41:11.382507Z",
     "iopub.status.idle": "2021-04-22T06:41:11.387064Z",
     "shell.execute_reply": "2021-04-22T06:41:11.386505Z"
    },
    "papermill": {
     "duration": 0.300867,
     "end_time": "2021-04-22T06:41:11.387205",
     "exception": false,
     "start_time": "2021-04-22T06:41:11.086338",
     "status": "completed"
    },
    "tags": []
   },
   "outputs": [],
   "source": [
    "923-490"
   ]
  },
  {
   "cell_type": "code",
   "execution_count": null,
   "id": "shaped-advance",
   "metadata": {
    "execution": {
     "iopub.execute_input": "2021-04-22T06:41:12.576336Z",
     "iopub.status.busy": "2021-04-22T06:41:12.575648Z",
     "iopub.status.idle": "2021-04-22T06:41:12.602252Z",
     "shell.execute_reply": "2021-04-22T06:41:12.601668Z"
    },
    "papermill": {
     "duration": 0.341426,
     "end_time": "2021-04-22T06:41:12.602405",
     "exception": false,
     "start_time": "2021-04-22T06:41:12.260979",
     "status": "completed"
    },
    "scrolled": true,
    "tags": []
   },
   "outputs": [],
   "source": [
    "df['has_Seed'] = np.where((df['has_RoundABCD'] == 0) & (df['has_Investor'] == 1), 1, 0)\n",
    "df.head()"
   ]
  },
  {
   "cell_type": "code",
   "execution_count": null,
   "id": "practical-thermal",
   "metadata": {
    "execution": {
     "iopub.execute_input": "2021-04-22T06:41:13.214732Z",
     "iopub.status.busy": "2021-04-22T06:41:13.214032Z",
     "iopub.status.idle": "2021-04-22T06:41:13.217968Z",
     "shell.execute_reply": "2021-04-22T06:41:13.218459Z"
    },
    "papermill": {
     "duration": 0.318411,
     "end_time": "2021-04-22T06:41:13.218660",
     "exception": false,
     "start_time": "2021-04-22T06:41:12.900249",
     "status": "completed"
    },
    "tags": []
   },
   "outputs": [],
   "source": [
    "df['has_Seed'] == 1"
   ]
  },
  {
   "cell_type": "code",
   "execution_count": null,
   "id": "revolutionary-magnet",
   "metadata": {
    "execution": {
     "iopub.execute_input": "2021-04-22T06:41:13.816021Z",
     "iopub.status.busy": "2021-04-22T06:41:13.815169Z",
     "iopub.status.idle": "2021-04-22T06:41:13.821560Z",
     "shell.execute_reply": "2021-04-22T06:41:13.822185Z"
    },
    "papermill": {
     "duration": 0.306588,
     "end_time": "2021-04-22T06:41:13.822363",
     "exception": false,
     "start_time": "2021-04-22T06:41:13.515775",
     "status": "completed"
    },
    "scrolled": true,
    "tags": []
   },
   "outputs": [],
   "source": [
    "len(df[(df[\"has_Seed\"] == 1)].index)"
   ]
  },
  {
   "cell_type": "code",
   "execution_count": null,
   "id": "turkish-duplicate",
   "metadata": {
    "execution": {
     "iopub.execute_input": "2021-04-22T06:41:15.023316Z",
     "iopub.status.busy": "2021-04-22T06:41:15.004135Z",
     "iopub.status.idle": "2021-04-22T06:41:15.053306Z",
     "shell.execute_reply": "2021-04-22T06:41:15.052771Z"
    },
    "papermill": {
     "duration": 0.347101,
     "end_time": "2021-04-22T06:41:15.053438",
     "exception": false,
     "start_time": "2021-04-22T06:41:14.706337",
     "status": "completed"
    },
    "scrolled": true,
    "tags": []
   },
   "outputs": [],
   "source": [
    "df['invalid_startup'] = np.where((df['has_RoundABCD'] == 0) & (df['has_VC'] == 0) & (df['has_angel'] == 0), 1, 0)\n",
    "df.head()"
   ]
  },
  {
   "cell_type": "code",
   "execution_count": null,
   "id": "fewer-movie",
   "metadata": {
    "execution": {
     "iopub.execute_input": "2021-04-22T06:41:15.653784Z",
     "iopub.status.busy": "2021-04-22T06:41:15.652848Z",
     "iopub.status.idle": "2021-04-22T06:41:15.656449Z",
     "shell.execute_reply": "2021-04-22T06:41:15.657065Z"
    },
    "papermill": {
     "duration": 0.307447,
     "end_time": "2021-04-22T06:41:15.657252",
     "exception": false,
     "start_time": "2021-04-22T06:41:15.349805",
     "status": "completed"
    },
    "tags": []
   },
   "outputs": [],
   "source": [
    "len(df[(df[\"invalid_startup\"] == 1)].index)"
   ]
  },
  {
   "cell_type": "code",
   "execution_count": null,
   "id": "ranking-cyprus",
   "metadata": {
    "execution": {
     "iopub.execute_input": "2021-04-22T06:41:16.854967Z",
     "iopub.status.busy": "2021-04-22T06:41:16.853371Z",
     "iopub.status.idle": "2021-04-22T06:41:16.892412Z",
     "shell.execute_reply": "2021-04-22T06:41:16.891628Z"
    },
    "papermill": {
     "duration": 0.339882,
     "end_time": "2021-04-22T06:41:16.892597",
     "exception": false,
     "start_time": "2021-04-22T06:41:16.552715",
     "status": "completed"
    },
    "tags": []
   },
   "outputs": [],
   "source": [
    "df.founded_at=pd.to_datetime(df.founded_at)\n",
    "df.closed_at=pd.to_datetime(df.closed_at)"
   ]
  },
  {
   "cell_type": "code",
   "execution_count": null,
   "id": "experimental-vulnerability",
   "metadata": {
    "execution": {
     "iopub.execute_input": "2021-04-22T06:41:17.509369Z",
     "iopub.status.busy": "2021-04-22T06:41:17.508679Z",
     "iopub.status.idle": "2021-04-22T06:41:17.559392Z",
     "shell.execute_reply": "2021-04-22T06:41:17.558700Z"
    },
    "papermill": {
     "duration": 0.357333,
     "end_time": "2021-04-22T06:41:17.559532",
     "exception": false,
     "start_time": "2021-04-22T06:41:17.202199",
     "status": "completed"
    },
    "tags": []
   },
   "outputs": [],
   "source": [
    "df['age_closed_startup'] = df.apply(lambda row: (row.closed_at - row.founded_at) , axis=1)"
   ]
  },
  {
   "cell_type": "code",
   "execution_count": null,
   "id": "vocal-armstrong",
   "metadata": {
    "execution": {
     "iopub.execute_input": "2021-04-22T06:41:18.155306Z",
     "iopub.status.busy": "2021-04-22T06:41:18.154619Z",
     "iopub.status.idle": "2021-04-22T06:41:18.157343Z",
     "shell.execute_reply": "2021-04-22T06:41:18.157948Z"
    },
    "papermill": {
     "duration": 0.305006,
     "end_time": "2021-04-22T06:41:18.158124",
     "exception": false,
     "start_time": "2021-04-22T06:41:17.853118",
     "status": "completed"
    },
    "tags": []
   },
   "outputs": [],
   "source": [
    "df['age_closed_startup'].head()"
   ]
  },
  {
   "cell_type": "code",
   "execution_count": null,
   "id": "virgin-identification",
   "metadata": {
    "execution": {
     "iopub.execute_input": "2021-04-22T06:41:18.751932Z",
     "iopub.status.busy": "2021-04-22T06:41:18.751214Z",
     "iopub.status.idle": "2021-04-22T06:41:18.756880Z",
     "shell.execute_reply": "2021-04-22T06:41:18.757393Z"
    },
    "papermill": {
     "duration": 0.306265,
     "end_time": "2021-04-22T06:41:18.757593",
     "exception": false,
     "start_time": "2021-04-22T06:41:18.451328",
     "status": "completed"
    },
    "tags": []
   },
   "outputs": [],
   "source": [
    "df['startUp_age_year'] = df['age_closed_startup'].dt.days /365"
   ]
  },
  {
   "cell_type": "code",
   "execution_count": null,
   "id": "prerequisite-content",
   "metadata": {
    "execution": {
     "iopub.execute_input": "2021-04-22T06:41:19.353793Z",
     "iopub.status.busy": "2021-04-22T06:41:19.352993Z",
     "iopub.status.idle": "2021-04-22T06:41:19.396012Z",
     "shell.execute_reply": "2021-04-22T06:41:19.396579Z"
    },
    "papermill": {
     "duration": 0.345453,
     "end_time": "2021-04-22T06:41:19.396754",
     "exception": false,
     "start_time": "2021-04-22T06:41:19.051301",
     "status": "completed"
    },
    "tags": []
   },
   "outputs": [],
   "source": [
    "df.head()"
   ]
  },
  {
   "cell_type": "code",
   "execution_count": null,
   "id": "bottom-brooks",
   "metadata": {
    "execution": {
     "iopub.execute_input": "2021-04-22T06:41:20.599443Z",
     "iopub.status.busy": "2021-04-22T06:41:20.598758Z",
     "iopub.status.idle": "2021-04-22T06:41:20.611926Z",
     "shell.execute_reply": "2021-04-22T06:41:20.612463Z"
    },
    "papermill": {
     "duration": 0.316163,
     "end_time": "2021-04-22T06:41:20.612674",
     "exception": false,
     "start_time": "2021-04-22T06:41:20.296511",
     "status": "completed"
    },
    "tags": []
   },
   "outputs": [],
   "source": [
    "df = df.drop(['state_code','id','Unnamed: 6','category_code','object_id'],axis=1)\n",
    "df = df.drop(['zip_code','founded_at','closed_at','first_funding_at','last_funding_at','city','name'],axis=1)\n",
    "df = df.drop(['Unnamed: 0'],axis=1)\n",
    "df = df.drop(['latitude','longitude'],axis=1)\n",
    "df = df.drop(['geometry'],axis=1)\n",
    "\n",
    "df = df.drop(['age_closed_startup'],axis=1)"
   ]
  },
  {
   "cell_type": "code",
   "execution_count": null,
   "id": "orange-shanghai",
   "metadata": {
    "execution": {
     "iopub.execute_input": "2021-04-22T06:41:21.243401Z",
     "iopub.status.busy": "2021-04-22T06:41:21.242776Z",
     "iopub.status.idle": "2021-04-22T06:41:21.248063Z",
     "shell.execute_reply": "2021-04-22T06:41:21.248603Z"
    },
    "papermill": {
     "duration": 0.305107,
     "end_time": "2021-04-22T06:41:21.248796",
     "exception": false,
     "start_time": "2021-04-22T06:41:20.943689",
     "status": "completed"
    },
    "tags": []
   },
   "outputs": [],
   "source": [
    "# df['age_first_milestone_year'].astype(str).astype(float)\n",
    "# df['age_last_milestone_year'].astype(str).astype(float)\n",
    "\n",
    "df['age_first_milestone_year'] = df.age_first_milestone_year.astype(float)\n",
    "df['age_last_milestone_year'] = df.age_last_milestone_year.astype(float)"
   ]
  },
  {
   "cell_type": "code",
   "execution_count": null,
   "id": "comparable-fraction",
   "metadata": {
    "execution": {
     "iopub.execute_input": "2021-04-22T06:41:22.439202Z",
     "iopub.status.busy": "2021-04-22T06:41:22.438489Z",
     "iopub.status.idle": "2021-04-22T06:41:22.448405Z",
     "shell.execute_reply": "2021-04-22T06:41:22.449106Z"
    },
    "papermill": {
     "duration": 0.311828,
     "end_time": "2021-04-22T06:41:22.449300",
     "exception": false,
     "start_time": "2021-04-22T06:41:22.137472",
     "status": "completed"
    },
    "tags": []
   },
   "outputs": [],
   "source": [
    "#Cek categorical\n",
    "cat_feature = df.select_dtypes(include='object')\n",
    "cat_feature.head()"
   ]
  },
  {
   "cell_type": "code",
   "execution_count": null,
   "id": "baking-pattern",
   "metadata": {
    "execution": {
     "iopub.execute_input": "2021-04-22T06:41:23.056740Z",
     "iopub.status.busy": "2021-04-22T06:41:23.055842Z",
     "iopub.status.idle": "2021-04-22T06:41:23.283297Z",
     "shell.execute_reply": "2021-04-22T06:41:23.282679Z"
    },
    "papermill": {
     "duration": 0.533779,
     "end_time": "2021-04-22T06:41:23.283440",
     "exception": false,
     "start_time": "2021-04-22T06:41:22.749661",
     "status": "completed"
    },
    "tags": []
   },
   "outputs": [],
   "source": [
    "from sklearn.model_selection import train_test_split\n",
    "# Split the data\n",
    "# Input/independent variables\n",
    "X = df.drop('status', axis = 1) # her we are droping the output feature as this is the target and 'X' is input features, the changes are not \n",
    "                                              # made inplace as we have not used 'inplace = True'\n",
    "\n",
    "y = df['status'] # Output/Dependent variable\n",
    "# train_x, test_x,train_y,test_y = train_test_split(X,y)"
   ]
  },
  {
   "cell_type": "code",
   "execution_count": null,
   "id": "disciplinary-supervisor",
   "metadata": {
    "execution": {
     "iopub.execute_input": "2021-04-22T06:41:23.890911Z",
     "iopub.status.busy": "2021-04-22T06:41:23.890141Z",
     "iopub.status.idle": "2021-04-22T06:41:23.893077Z",
     "shell.execute_reply": "2021-04-22T06:41:23.893607Z"
    },
    "papermill": {
     "duration": 0.308029,
     "end_time": "2021-04-22T06:41:23.893786",
     "exception": false,
     "start_time": "2021-04-22T06:41:23.585757",
     "status": "completed"
    },
    "tags": []
   },
   "outputs": [],
   "source": [
    "# # Scaling the data\n",
    "# from sklearn.preprocessing import StandardScaler\n",
    "# sc = StandardScaler()\n",
    "# X =  sc.fit_transform(X)\n",
    "# X"
   ]
  },
  {
   "cell_type": "code",
   "execution_count": null,
   "id": "ecological-preparation",
   "metadata": {
    "execution": {
     "iopub.execute_input": "2021-04-22T06:41:24.498087Z",
     "iopub.status.busy": "2021-04-22T06:41:24.497301Z",
     "iopub.status.idle": "2021-04-22T06:41:24.505007Z",
     "shell.execute_reply": "2021-04-22T06:41:24.504365Z"
    },
    "papermill": {
     "duration": 0.312376,
     "end_time": "2021-04-22T06:41:24.505165",
     "exception": false,
     "start_time": "2021-04-22T06:41:24.192789",
     "status": "completed"
    },
    "tags": []
   },
   "outputs": [],
   "source": [
    "from sklearn.model_selection import train_test_split\n",
    "X_train, X_test, y_train, y_test = train_test_split(X, y, test_size = 0.2, random_state = 42)"
   ]
  },
  {
   "cell_type": "code",
   "execution_count": null,
   "id": "planned-meaning",
   "metadata": {
    "execution": {
     "iopub.execute_input": "2021-04-22T06:41:25.113218Z",
     "iopub.status.busy": "2021-04-22T06:41:25.112340Z",
     "iopub.status.idle": "2021-04-22T06:41:25.121112Z",
     "shell.execute_reply": "2021-04-22T06:41:25.119716Z"
    },
    "papermill": {
     "duration": 0.315995,
     "end_time": "2021-04-22T06:41:25.121311",
     "exception": false,
     "start_time": "2021-04-22T06:41:24.805316",
     "status": "completed"
    },
    "tags": []
   },
   "outputs": [],
   "source": [
    "# lets print the shapes again \n",
    "print(\"Shape of the X Train :\", X_train.shape)\n",
    "print(\"Shape of the y Train :\", y_train.shape)\n",
    "print(\"Shape of the X test :\", X_test.shape)\n",
    "print(\"Shape of the y test :\", y_test.shape)\n"
   ]
  },
  {
   "cell_type": "code",
   "execution_count": null,
   "id": "dental-mentor",
   "metadata": {
    "execution": {
     "iopub.execute_input": "2021-04-22T06:41:25.731028Z",
     "iopub.status.busy": "2021-04-22T06:41:25.730267Z",
     "iopub.status.idle": "2021-04-22T06:41:25.733312Z",
     "shell.execute_reply": "2021-04-22T06:41:25.733850Z"
    },
    "papermill": {
     "duration": 0.31105,
     "end_time": "2021-04-22T06:41:25.734026",
     "exception": false,
     "start_time": "2021-04-22T06:41:25.422976",
     "status": "completed"
    },
    "tags": []
   },
   "outputs": [],
   "source": [
    "# Model Build\n",
    "from sklearn.metrics import confusion_matrix, classification_report,accuracy_score,roc_curve, auc, precision_recall_curve, f1_score\n",
    "import warnings\n",
    "warnings.filterwarnings('ignore')"
   ]
  },
  {
   "cell_type": "code",
   "execution_count": null,
   "id": "indian-finland",
   "metadata": {
    "execution": {
     "iopub.execute_input": "2021-04-22T06:41:27.536103Z",
     "iopub.status.busy": "2021-04-22T06:41:27.535372Z",
     "iopub.status.idle": "2021-04-22T06:41:27.968676Z",
     "shell.execute_reply": "2021-04-22T06:41:27.969688Z"
    },
    "papermill": {
     "duration": 0.742187,
     "end_time": "2021-04-22T06:41:27.969880",
     "exception": false,
     "start_time": "2021-04-22T06:41:27.227693",
     "status": "completed"
    },
    "tags": []
   },
   "outputs": [],
   "source": [
    "import lightgbm as lgb\n",
    "#lightGBM model fit\n",
    "gbm = lgb.LGBMRegressor()\n",
    "gbm.fit(X_train,y_train)\n",
    "gbm.booster_.feature_importance()\n",
    "\n",
    "\n",
    "# importance of each attribute\n",
    "fea_imp_ = pd.DataFrame({'cols':X.columns, 'fea_imp':gbm.feature_importances_})\n",
    "fea_imp_.loc[fea_imp_.fea_imp > 0].sort_values(by=['fea_imp'], ascending = False)"
   ]
  },
  {
   "cell_type": "code",
   "execution_count": null,
   "id": "stunning-greece",
   "metadata": {
    "execution": {
     "iopub.execute_input": "2021-04-22T06:41:29.190093Z",
     "iopub.status.busy": "2021-04-22T06:41:29.189410Z",
     "iopub.status.idle": "2021-04-22T06:41:32.478502Z",
     "shell.execute_reply": "2021-04-22T06:41:32.479012Z"
    },
    "papermill": {
     "duration": 3.597379,
     "end_time": "2021-04-22T06:41:32.479203",
     "exception": false,
     "start_time": "2021-04-22T06:41:28.881824",
     "status": "completed"
    },
    "tags": []
   },
   "outputs": [],
   "source": [
    "from sklearn.feature_selection import RFE\n",
    "# create the RFE model and select 10 attributes\n",
    "rfe = RFE(gbm, 10)\n",
    "rfe = rfe.fit(X_train,y_train)\n",
    "\n",
    "# summarize the selection of the attributes\n",
    "print(rfe.support_)\n",
    "\n",
    "# summarize the ranking of the attributes\n",
    "fea_rank_ = pd.DataFrame({'cols':X.columns, 'fea_rank':rfe.ranking_})\n",
    "fea_rank_.loc[fea_rank_.fea_rank > 0].sort_values(by=['fea_rank'], ascending = True)"
   ]
  },
  {
   "cell_type": "code",
   "execution_count": null,
   "id": "unexpected-monte",
   "metadata": {
    "execution": {
     "iopub.execute_input": "2021-04-22T06:41:33.706345Z",
     "iopub.status.busy": "2021-04-22T06:41:33.703822Z",
     "iopub.status.idle": "2021-04-22T06:41:34.315830Z",
     "shell.execute_reply": "2021-04-22T06:41:34.316658Z"
    },
    "papermill": {
     "duration": 0.925199,
     "end_time": "2021-04-22T06:41:34.316856",
     "exception": false,
     "start_time": "2021-04-22T06:41:33.391657",
     "status": "completed"
    },
    "tags": []
   },
   "outputs": [],
   "source": [
    "from lightgbm import LGBMClassifier\n",
    "clf = LGBMClassifier(learning_rate=0.02,\n",
    "                    boosting_type='gbdt', max_depth=4,  objective='binary', \n",
    "                    random_state=100,  \n",
    "                  n_estimators=1000 ,reg_alpha=0, reg_lambda=1, n_jobs=-1)\n",
    "\n",
    "\n",
    "clf.fit(X_train,y_train)\n",
    "\n",
    "y_pred_lgb = clf.predict(X_test)\n",
    "\n",
    "\n",
    "print(\"Training Accuracy :\", clf.score(X_train, y_train))\n",
    "print(\"Testing Accuracy :\", clf.score(X_test, y_test))\n",
    "\n",
    "cm = confusion_matrix(y_test, y_pred_lgb)\n",
    "plt.rcParams['figure.figsize'] = (3, 3)\n",
    "sns.heatmap(cm, annot = True, cmap = 'YlGnBu', fmt = '.8g')\n",
    "plt.show()\n",
    "\n",
    "cr = classification_report(y_test, y_pred_lgb)\n",
    "print(cr)\n",
    "\n",
    "print(\"------------------------------------------\")\n",
    "\n",
    "false_positive_rate, true_positive_rate, thresholds = roc_curve(y_test,y_pred_lgb)\n",
    "roc_auc = auc(false_positive_rate, true_positive_rate)\n",
    "print(\"ROC Curves              =\",roc_auc)\n",
    "\n",
    "precision, recall, thresholds = precision_recall_curve(y_test, y_pred_lgb)\n",
    "f1 = f1_score(y_test, y_pred_lgb)\n",
    "Precision_Recall_lgbm = auc(recall, precision)\n",
    "print(\"Precision-Recall Curves =\",Precision_Recall_lgbm)"
   ]
  },
  {
   "cell_type": "code",
   "execution_count": null,
   "id": "immediate-collar",
   "metadata": {
    "execution": {
     "iopub.execute_input": "2021-04-22T06:41:35.541239Z",
     "iopub.status.busy": "2021-04-22T06:41:35.540505Z",
     "iopub.status.idle": "2021-04-22T06:41:36.025109Z",
     "shell.execute_reply": "2021-04-22T06:41:36.024333Z"
    },
    "papermill": {
     "duration": 0.79744,
     "end_time": "2021-04-22T06:41:36.025277",
     "exception": false,
     "start_time": "2021-04-22T06:41:35.227837",
     "status": "completed"
    },
    "tags": []
   },
   "outputs": [],
   "source": [
    "from xgboost import XGBClassifier\n",
    "\n",
    "#train\n",
    "xgb = XGBClassifier()\n",
    "\n",
    "xgb.fit(X_train,y_train)\n",
    "\n",
    "#predict\n",
    "y_predicted_xgb = xgb.predict(X_test)\n",
    "\n",
    "print(\"Training Accuracy :\", xgb.score(X_train, y_train))\n",
    "print(\"Testing Accuracy :\", xgb.score(X_test, y_test))\n",
    "\n",
    "#eval\n",
    "cm = confusion_matrix(y_test, y_predicted_xgb)\n",
    "plt.rcParams['figure.figsize'] = (3, 3)\n",
    "sns.heatmap(cm, annot = True, cmap = 'YlGnBu', fmt = '.8g')\n",
    "plt.show()\n",
    "\n",
    "cr = classification_report(y_test, y_predicted_xgb)\n",
    "print(cr)\n",
    "\n",
    "print(\"------------------------------------------\")\n",
    "\n",
    "false_positive_rate, true_positive_rate, thresholds = roc_curve(y_test,y_predicted_xgb)\n",
    "roc_auc = auc(false_positive_rate, true_positive_rate)\n",
    "print(\"ROC Curves              =\",roc_auc)\n",
    "\n",
    "precision, recall, thresholds = precision_recall_curve(y_test, y_predicted_xgb)\n",
    "f1 = f1_score(y_test, y_predicted_xgb)\n",
    "Precision_Recall_xgb = auc(recall, precision)\n",
    "print(\"Precision-Recall Curves =\",Precision_Recall_xgb)"
   ]
  },
  {
   "cell_type": "code",
   "execution_count": null,
   "id": "moderate-liechtenstein",
   "metadata": {
    "execution": {
     "iopub.execute_input": "2021-04-22T06:41:37.267813Z",
     "iopub.status.busy": "2021-04-22T06:41:37.267076Z",
     "iopub.status.idle": "2021-04-22T06:41:40.536965Z",
     "shell.execute_reply": "2021-04-22T06:41:40.537476Z"
    },
    "papermill": {
     "duration": 3.589701,
     "end_time": "2021-04-22T06:41:40.537664",
     "exception": false,
     "start_time": "2021-04-22T06:41:36.947963",
     "status": "completed"
    },
    "tags": []
   },
   "outputs": [],
   "source": [
    "from sklearn.ensemble import GradientBoostingClassifier\n",
    "#train\n",
    "gbc = GradientBoostingClassifier(learning_rate=0.02,\n",
    "                    max_depth=4,\n",
    "                    random_state=100, n_estimators=1000)\n",
    "\n",
    "\n",
    "gbc.fit(X_train,y_train)\n",
    "\n",
    "#predict\n",
    "y_predicted_gb = gbc.predict(X_test)\n",
    "\n",
    "print(\"Training Accuracy :\", gbc.score(X_train, y_train))\n",
    "print(\"Testing Accuracy :\", gbc.score(X_test, y_test))\n",
    "\n",
    "#eval\n",
    "cm = confusion_matrix(y_test, y_predicted_gb)\n",
    "plt.rcParams['figure.figsize'] = (3, 3)\n",
    "sns.heatmap(cm, annot = True, cmap = 'YlGnBu', fmt = '.8g')\n",
    "plt.show()\n",
    "\n",
    "cr = classification_report(y_test, y_predicted_gb)\n",
    "print(cr)\n",
    "\n",
    "\n",
    "print(\"------------------------------------------\")\n",
    "\n",
    "false_positive_rate, true_positive_rate, thresholds = roc_curve(y_test,y_predicted_gb)\n",
    "roc_auc = auc(false_positive_rate, true_positive_rate)\n",
    "print(\"ROC Curves              =\",roc_auc)\n",
    "\n",
    "precision, recall, thresholds = precision_recall_curve(y_test, y_predicted_gb)\n",
    "f1 = f1_score(y_test, y_predicted_gb)\n",
    "Precision_Recall_gbs = auc(recall, precision)\n",
    "print(\"Precision-Recall Curves =\",Precision_Recall_gbs)"
   ]
  },
  {
   "cell_type": "code",
   "execution_count": null,
   "id": "focal-debate",
   "metadata": {
    "execution": {
     "iopub.execute_input": "2021-04-22T06:41:41.161229Z",
     "iopub.status.busy": "2021-04-22T06:41:41.160270Z",
     "iopub.status.idle": "2021-04-22T06:41:41.164684Z",
     "shell.execute_reply": "2021-04-22T06:41:41.164143Z"
    },
    "papermill": {
     "duration": 0.314608,
     "end_time": "2021-04-22T06:41:41.164824",
     "exception": false,
     "start_time": "2021-04-22T06:41:40.850216",
     "status": "completed"
    },
    "tags": []
   },
   "outputs": [],
   "source": [
    "0.922681496797328"
   ]
  },
  {
   "cell_type": "code",
   "execution_count": null,
   "id": "adolescent-torture",
   "metadata": {
    "execution": {
     "iopub.execute_input": "2021-04-22T06:41:42.401300Z",
     "iopub.status.busy": "2021-04-22T06:41:42.400470Z",
     "iopub.status.idle": "2021-04-22T06:41:42.818772Z",
     "shell.execute_reply": "2021-04-22T06:41:42.818158Z"
    },
    "papermill": {
     "duration": 0.736159,
     "end_time": "2021-04-22T06:41:42.818925",
     "exception": false,
     "start_time": "2021-04-22T06:41:42.082766",
     "status": "completed"
    },
    "tags": []
   },
   "outputs": [],
   "source": [
    "from sklearn.ensemble import AdaBoostClassifier\n",
    "#train\n",
    "ada = AdaBoostClassifier()\n",
    "\n",
    "\n",
    "ada.fit(X_train,y_train)\n",
    "\n",
    "#predict\n",
    "y_predicted_ab = ada.predict(X_test)\n",
    "\n",
    "print(\"Training Accuracy :\", ada.score(X_train, y_train))\n",
    "print(\"Testing Accuracy :\", ada.score(X_test, y_test))\n",
    "\n",
    "#eval\n",
    "cm = confusion_matrix(y_test, y_predicted_ab)\n",
    "plt.rcParams['figure.figsize'] = (3, 3)\n",
    "sns.heatmap(cm, annot = True, cmap = 'YlGnBu', fmt = '.8g')\n",
    "plt.show()\n",
    "\n",
    "cr = classification_report(y_test, y_predicted_ab)\n",
    "print(cr)\n",
    "\n",
    "false_positive_rate, true_positive_rate, thresholds = roc_curve(y_test,y_predicted_ab)\n",
    "roc_auc = auc(false_positive_rate, true_positive_rate)\n",
    "print(\"roc_auc\",roc_auc)\n",
    "\n",
    "print(\"------------------------------------------\")\n",
    "\n",
    "false_positive_rate, true_positive_rate, thresholds = roc_curve(y_test,y_predicted_ab)\n",
    "roc_auc = auc(false_positive_rate, true_positive_rate)\n",
    "print(\"ROC Curves              =\",roc_auc)\n",
    "\n",
    "precision, recall, thresholds = precision_recall_curve(y_test, y_predicted_ab)\n",
    "f1 = f1_score(y_test, y_predicted_ab)\n",
    "Precision_Recall_abs = auc(recall, precision)\n",
    "print(\"Precision-Recall Curves =\",Precision_Recall_abs)"
   ]
  },
  {
   "cell_type": "code",
   "execution_count": null,
   "id": "historic-publicity",
   "metadata": {
    "execution": {
     "iopub.execute_input": "2021-04-22T06:41:44.061078Z",
     "iopub.status.busy": "2021-04-22T06:41:44.060324Z",
     "iopub.status.idle": "2021-04-22T06:41:44.384085Z",
     "shell.execute_reply": "2021-04-22T06:41:44.383351Z"
    },
    "papermill": {
     "duration": 0.642797,
     "end_time": "2021-04-22T06:41:44.384231",
     "exception": false,
     "start_time": "2021-04-22T06:41:43.741434",
     "status": "completed"
    },
    "tags": []
   },
   "outputs": [],
   "source": [
    "from sklearn.svm import SVC\n",
    "sv = SVC()\n",
    "\n",
    "sv.fit(X_train,y_train)\n",
    "\n",
    "\n",
    "y_pred_sv = sv.predict(X_test)\n",
    "\n",
    "print(\"Training Accuracy :\", sv.score(X_train, y_train))\n",
    "print(\"Testing Accuracy :\", sv.score(X_test, y_test))\n",
    "\n",
    "cm = confusion_matrix(y_test, y_pred_sv)\n",
    "plt.rcParams['figure.figsize'] = (3, 3)\n",
    "sns.heatmap(cm, annot = True, cmap = 'YlGnBu', fmt = '.8g')\n",
    "plt.show()\n",
    "\n",
    "cr = classification_report(y_test, y_pred_sv)\n",
    "print(cr)\n",
    "\n",
    "print(\"------------------------------------------\")\n",
    "\n",
    "false_positive_rate, true_positive_rate, thresholds = roc_curve(y_test,y_pred_sv)\n",
    "roc_auc = auc(false_positive_rate, true_positive_rate)\n",
    "print(\"ROC Curves              =\",roc_auc)\n",
    "\n",
    "precision, recall, thresholds = precision_recall_curve(y_test, y_pred_sv)\n",
    "f1 = f1_score(y_test, y_pred_sv)\n",
    "Precision_Recall_svc = auc(recall, precision)\n",
    "print(\"Precision-Recall Curves =\",Precision_Recall_svc)"
   ]
  },
  {
   "cell_type": "code",
   "execution_count": null,
   "id": "portable-earthquake",
   "metadata": {
    "execution": {
     "iopub.execute_input": "2021-04-22T06:41:45.650085Z",
     "iopub.status.busy": "2021-04-22T06:41:45.649096Z",
     "iopub.status.idle": "2021-04-22T06:41:46.191461Z",
     "shell.execute_reply": "2021-04-22T06:41:46.192025Z"
    },
    "papermill": {
     "duration": 0.865049,
     "end_time": "2021-04-22T06:41:46.192389",
     "exception": false,
     "start_time": "2021-04-22T06:41:45.327340",
     "status": "completed"
    },
    "tags": []
   },
   "outputs": [],
   "source": [
    "from sklearn.ensemble import RandomForestClassifier\n",
    "rf = RandomForestClassifier()\n",
    "\n",
    "rf.fit(X_train,y_train)\n",
    "\n",
    "\n",
    "y_pred_rf = rf.predict(X_test)\n",
    "\n",
    "print(\"Training Accuracy :\", rf.score(X_train, y_train))\n",
    "print(\"Testing Accuracy :\", rf.score(X_test, y_test))\n",
    "\n",
    "cm = confusion_matrix(y_test, y_pred_rf)\n",
    "plt.rcParams['figure.figsize'] = (3, 3)\n",
    "sns.heatmap(cm, annot = True, cmap = 'YlGnBu', fmt = '.8g')\n",
    "plt.show()\n",
    "\n",
    "cr = classification_report(y_test, y_pred_rf)\n",
    "print(cr)\n",
    "\n",
    "\n",
    "print(\"------------------------------------------\")\n",
    "\n",
    "false_positive_rate, true_positive_rate, thresholds = roc_curve(y_test,y_pred_rf)\n",
    "roc_auc = auc(false_positive_rate, true_positive_rate)\n",
    "print(\"ROC Curves              =\",roc_auc)\n",
    "\n",
    "precision, recall, thresholds = precision_recall_curve(y_test, y_pred_rf)\n",
    "f1 = f1_score(y_test, y_pred_rf)\n",
    "Precision_Recall_rfs = auc(recall, precision)\n",
    "print(\"Precision-Recall Curves =\",Precision_Recall_rfs)"
   ]
  },
  {
   "cell_type": "code",
   "execution_count": null,
   "id": "filled-argument",
   "metadata": {
    "execution": {
     "iopub.execute_input": "2021-04-22T06:41:47.453836Z",
     "iopub.status.busy": "2021-04-22T06:41:47.452719Z",
     "iopub.status.idle": "2021-04-22T06:41:47.469072Z",
     "shell.execute_reply": "2021-04-22T06:41:47.469586Z"
    },
    "papermill": {
     "duration": 0.33714,
     "end_time": "2021-04-22T06:41:47.469780",
     "exception": false,
     "start_time": "2021-04-22T06:41:47.132640",
     "status": "completed"
    },
    "tags": []
   },
   "outputs": [],
   "source": [
    "from sklearn.metrics import precision_score\n",
    "from sklearn.metrics import recall_score\n",
    "\n",
    "scores = {'LGBM':  { \n",
    "                             'precision_score': precision_score(y_test, y_pred_lgb),\n",
    "                             'recall_score': recall_score(y_test, y_pred_lgb)\n",
    "                         },        \n",
    "                 'GradientBoosting Classifier':  { \n",
    "                             'precision_score': precision_score(y_test, y_predicted_gb),\n",
    "                             'recall_score': recall_score(y_test, y_predicted_gb)\n",
    "                         },\n",
    "                 'Adaboost Classifier':  { \n",
    "                             'precision_score': precision_score(y_test, y_predicted_ab),\n",
    "                             'recall_score': recall_score(y_test, y_predicted_ab)\n",
    "                         },\n",
    "                 'SVC':  { \n",
    "                             'precision_score': precision_score(y_test, y_pred_sv),\n",
    "                             'recall_score': recall_score(y_test, y_pred_sv)\n",
    "                         },\n",
    "                 'XGBoost':  { \n",
    "                             'precision_score': precision_score(y_test, y_predicted_xgb),\n",
    "                             'recall_score': recall_score(y_test, y_predicted_xgb)\n",
    "                         },\n",
    "                 'Random Forest':  { \n",
    "                             'precision_score': precision_score(y_test, y_pred_rf),\n",
    "                            'recall_score': recall_score(y_test, y_pred_rf)\n",
    "                         }\n",
    "            }"
   ]
  },
  {
   "cell_type": "code",
   "execution_count": null,
   "id": "metropolitan-senior",
   "metadata": {
    "execution": {
     "iopub.execute_input": "2021-04-22T06:41:48.120460Z",
     "iopub.status.busy": "2021-04-22T06:41:48.119445Z",
     "iopub.status.idle": "2021-04-22T06:41:48.124943Z",
     "shell.execute_reply": "2021-04-22T06:41:48.125428Z"
    },
    "papermill": {
     "duration": 0.332102,
     "end_time": "2021-04-22T06:41:48.125626",
     "exception": false,
     "start_time": "2021-04-22T06:41:47.793524",
     "status": "completed"
    },
    "tags": []
   },
   "outputs": [],
   "source": [
    "from sklearn.metrics import precision_score\n",
    "\n",
    "\n",
    "Precision_Recall = {'LGBM':  { \n",
    "                             'Precision_Recall': Precision_Recall_lgbm\n",
    "                         },        \n",
    "                 'GradientBoosting Classifier':  { \n",
    "                             'Precision_Recall': Precision_Recall_gbs\n",
    "                         },\n",
    "                 'Adaboost Classifier':  { \n",
    "                             'Precision_Recall': Precision_Recall_abs\n",
    "                         },\n",
    "                 'SVC':  { \n",
    "                             'Precision_Recall': Precision_Recall_svc\n",
    "                         },\n",
    "                 'XGBoost':  { \n",
    "                             'Precision_Recall': Precision_Recall_xgb\n",
    "                         },\n",
    "                 'Random Forest':  { \n",
    "                             'Precision_Recall': Precision_Recall_rfs\n",
    "                         }\n",
    "            }"
   ]
  },
  {
   "cell_type": "code",
   "execution_count": null,
   "id": "environmental-snapshot",
   "metadata": {
    "execution": {
     "iopub.execute_input": "2021-04-22T06:41:48.767172Z",
     "iopub.status.busy": "2021-04-22T06:41:48.766104Z",
     "iopub.status.idle": "2021-04-22T06:41:49.073219Z",
     "shell.execute_reply": "2021-04-22T06:41:49.073734Z"
    },
    "papermill": {
     "duration": 0.631347,
     "end_time": "2021-04-22T06:41:49.073910",
     "exception": false,
     "start_time": "2021-04-22T06:41:48.442563",
     "status": "completed"
    },
    "tags": []
   },
   "outputs": [],
   "source": [
    "scores = pd.DataFrame(scores)\n",
    "\n",
    "\n",
    "scores.plot(kind=\"barh\",figsize=(12, 12)).legend(loc='upper center', ncol=3, title=\"Machine Learning Model\")"
   ]
  },
  {
   "cell_type": "code",
   "execution_count": null,
   "id": "external-discharge",
   "metadata": {
    "execution": {
     "iopub.execute_input": "2021-04-22T06:41:49.704986Z",
     "iopub.status.busy": "2021-04-22T06:41:49.703894Z",
     "iopub.status.idle": "2021-04-22T06:41:49.937417Z",
     "shell.execute_reply": "2021-04-22T06:41:49.937916Z"
    },
    "papermill": {
     "duration": 0.551969,
     "end_time": "2021-04-22T06:41:49.938119",
     "exception": false,
     "start_time": "2021-04-22T06:41:49.386150",
     "status": "completed"
    },
    "tags": []
   },
   "outputs": [],
   "source": [
    "Precision_Recall = pd.DataFrame(Precision_Recall)\n",
    "\n",
    "\n",
    "Precision_Recall.plot(kind=\"barh\",figsize=(15, 8)).legend(loc='upper center', ncol=3, title=\"Machine Learning Model\")"
   ]
  }
 ],
 "metadata": {
  "kernelspec": {
   "display_name": "Python 3",
   "language": "python",
   "name": "python3"
  },
  "language_info": {
   "codemirror_mode": {
    "name": "ipython",
    "version": 3
   },
   "file_extension": ".py",
   "mimetype": "text/x-python",
   "name": "python",
   "nbconvert_exporter": "python",
   "pygments_lexer": "ipython3",
   "version": "3.7.10"
  },
  "papermill": {
   "default_parameters": {},
   "duration": 150.104971,
   "end_time": "2021-04-22T06:41:51.703696",
   "environment_variables": {},
   "exception": null,
   "input_path": "__notebook__.ipynb",
   "output_path": "__notebook__.ipynb",
   "parameters": {},
   "start_time": "2021-04-22T06:39:21.598725",
   "version": "2.3.3"
  }
 },
 "nbformat": 4,
 "nbformat_minor": 5
}
